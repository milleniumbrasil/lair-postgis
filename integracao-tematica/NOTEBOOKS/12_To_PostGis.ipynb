{
 "cells": [
  {
   "cell_type": "markdown",
   "metadata": {},
   "source": [
    "#### Script para subir os dados pras tabelas no PostgreSQL\n",
    "\n",
    "Projeto: Sistema de Apoio à Caracterização de Imóveis Rurais  \n",
    "Embrapa/2023"
   ]
  },
  {
   "cell_type": "code",
   "execution_count": null,
   "metadata": {},
   "outputs": [],
   "source": [
    "# Imports\n",
    "from geoalchemy2 import Geometry, WKTElement\n",
    "from sqlalchemy import *\n",
    "import pandas as pd\n",
    "import geopandas as gpd\n",
    "import glob\n",
    "import os"
   ]
  },
  {
   "cell_type": "code",
   "execution_count": null,
   "metadata": {},
   "outputs": [],
   "source": [
    "# Definir aos parâmetros do banco de dados\n",
    "host = \"localhost:5438\"\n",
    "database = \"lair\"\n",
    "user = \"postgres\"\n",
    "password = \"postgres\""
   ]
  },
  {
   "cell_type": "code",
   "execution_count": null,
   "metadata": {},
   "outputs": [],
   "source": [
    "# Conexão com o banco de dados\n",
    "connection_string = f\"postgresql://{user}:{password}@{host}/{database}\"\n",
    "engine = create_engine(connection_string)"
   ]
  },
  {
   "cell_type": "code",
   "execution_count": null,
   "metadata": {},
   "outputs": [],
   "source": [
    "# Definir o caminho da base de dados que irá pro banco de dados\n",
    "base_path = r\"C:\\Users\\youx\\Documents\\Embrapa\\Teste_Notebooks\\Usos_ABC\\Usos_ABC_Municipios\\2021\""
   ]
  },
  {
   "cell_type": "code",
   "execution_count": null,
   "metadata": {},
   "outputs": [],
   "source": [
    "# Definir qual o schema e table de acordo com a base de dados\n",
    "table = '2021'\n",
    "schema = 'Usos_ABC'"
   ]
  },
  {
   "cell_type": "code",
   "execution_count": null,
   "metadata": {},
   "outputs": [],
   "source": [
    "# Lendo o caminho dos shapefiles\n",
    "shapefiles = glob.glob(base_path + f'**/*.shp')\n",
    "for shape in shapefiles:\n",
    "    gdf = gpd.read_file(shape)\n",
    "    gdf = gdf.to_crs(epsg=4326)\n",
    "    gdf = gdf.explode(ignore_index=True)\n",
    "    gdf.columns = [x.lower() for x in gdf.columns]\n",
    "    gdf['geom'] = gdf['geometry'].apply(lambda x: WKTElement(x.wkt, srid=4326))\n",
    "    gdf.drop(['geometry'], axis=1, inplace=True)\n",
    "    gdf.to_sql(f'{table}', engine, schema= f'{schema}', if_exists='append', index=False, \n",
    "                         dtype={'geom': Geometry('POLYGON', srid= 4326)})"
   ]
  }
 ],
 "metadata": {
  "kernelspec": {
   "display_name": "geo",
   "language": "python",
   "name": "python3"
  },
  "language_info": {
   "name": "python",
   "version": "3.11.5"
  },
  "orig_nbformat": 4
 },
 "nbformat": 4,
 "nbformat_minor": 2
}
