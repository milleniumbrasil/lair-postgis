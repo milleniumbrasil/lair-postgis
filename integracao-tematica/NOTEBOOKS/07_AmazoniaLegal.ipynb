{
 "cells": [
  {
   "cell_type": "markdown",
   "metadata": {},
   "source": [
    "#### Script para recortar a base de Amazônia Legal por Estado e por Municípios\n",
    "\n",
    "Projeto: Sistema de Apoio à Caracterização de Imóveis Rurais  \n",
    "Embrapa/2023"
   ]
  },
  {
   "cell_type": "code",
   "execution_count": 1,
   "metadata": {},
   "outputs": [],
   "source": [
    "# Módulos necessários\n",
    "import geopandas as gpd\n",
    "import pandas as pd\n",
    "import os\n",
    "import glob\n",
    "import numpy as np"
   ]
  },
  {
   "cell_type": "code",
   "execution_count": 2,
   "metadata": {},
   "outputs": [],
   "source": [
    "# Definir diretório principal\n",
    "dirpath = input('Diretório principal: ')"
   ]
  },
  {
   "cell_type": "code",
   "execution_count": 3,
   "metadata": {},
   "outputs": [],
   "source": [
    "# Definir caminho do shapefile arquivo original de Amazônia Legal\n",
    "amz = input('Caminho Amazônia Legal: ')"
   ]
  },
  {
   "cell_type": "code",
   "execution_count": 4,
   "metadata": {},
   "outputs": [],
   "source": [
    "# Definir caminho do shapefile que será usado como máscara para recorte (Municípios do BR - sem Buffer)\n",
    "limites = input('Caminho Municípios: ')"
   ]
  },
  {
   "cell_type": "code",
   "execution_count": 6,
   "metadata": {},
   "outputs": [],
   "source": [
    "# Ler o arquivo original de Amazônia Legal\n",
    "base = gpd.read_file(amz)\n",
    "base = base.to_crs(epsg=4326)\n",
    "# Lendo shapefile de Municípios\n",
    "lim = gpd.read_file(limites)\n",
    "lim = lim.to_crs(epsg=4326)\n",
    "# Criar pasta para armazenar a base de Amazônia Legal recortada por estado\n",
    "uf_path = os.path.join(dirpath, 'Amz_Legal_Estados')\n",
    "os.makedirs(uf_path, exist_ok=True)\n",
    "# Criar pasta para armazenar a base de Amazônia Legal recortada por municípios\n",
    "mun_path = os.path.join(dirpath, 'Amz_Legal_Municipios')\n",
    "os.makedirs(mun_path, exist_ok=True)\n",
    "# Cortar por estado\n",
    "# Agrupar por estado\n",
    "agrupado = lim.groupby('SIGLA_UF')\n",
    "for key,values in agrupado:\n",
    "    output = uf_path + f'\\Amz_Legal_2021_{key}.shp'\n",
    "    uf = lim[lim[\"SIGLA_UF\"] == f\"{key}\"]\n",
    "    geodf_clip = gpd.clip(base, uf, keep_geom_type=True)\n",
    "    geodf_clip.to_file(driver = 'ESRI Shapefile', filename = (rf'{output}'))\n",
    "# Lista dos estados\n",
    "estados = list(np.unique(lim['SIGLA_UF']))\n",
    "# Cortar por município\n",
    "for estado in estados:\n",
    "    shapes = glob.glob(uf_path + f'**/*{estado}.shp')\n",
    "    # Selecionar GeoDataFrame por estado\n",
    "    select = lim[lim['SIGLA_UF'] == f'{estado}']\n",
    "    # Agrupar por município\n",
    "    agrupado = select.groupby('CD_MUN')\n",
    "    for shape in shapes:\n",
    "        for key,values in agrupado:\n",
    "            amz = gpd.read_file(shape)\n",
    "            amz = amz.to_crs(epsg=4326)\n",
    "            nome_arq = os.path.basename(shape)\n",
    "            nome_arq = nome_arq.replace('.shp', f'_{key}.shp')\n",
    "            output = mun_path + f\"\\{nome_arq}\"\n",
    "            mun = lim[lim[\"CD_MUN\"] == f\"{key}\"]\n",
    "            geodf_clip = gpd.clip(amz, mun, keep_geom_type=True)\n",
    "            geodf_clip.to_file(driver = 'ESRI Shapefile', filename = (rf'{output}'))"
   ]
  }
 ],
 "metadata": {
  "kernelspec": {
   "display_name": "geo",
   "language": "python",
   "name": "python3"
  },
  "language_info": {
   "codemirror_mode": {
    "name": "ipython",
    "version": 3
   },
   "file_extension": ".py",
   "mimetype": "text/x-python",
   "name": "python",
   "nbconvert_exporter": "python",
   "pygments_lexer": "ipython3",
   "version": "3.11.5"
  },
  "orig_nbformat": 4
 },
 "nbformat": 4,
 "nbformat_minor": 2
}
