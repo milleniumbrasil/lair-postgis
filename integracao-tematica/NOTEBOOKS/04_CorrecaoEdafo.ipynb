{
 "cells": [
  {
   "cell_type": "markdown",
   "metadata": {},
   "source": [
    "#### Script para corrigir a base de Aptidão Solo por Estado\n",
    "\n",
    "Projeto: Sistema de Apoio à Caracterização de Imóveis Rurais  \n",
    "Embrapa/2023"
   ]
  },
  {
   "cell_type": "code",
   "execution_count": null,
   "metadata": {},
   "outputs": [],
   "source": [
    "# Módulos necessários\n",
    "import os\n",
    "import glob\n",
    "import geopandas as gpd\n",
    "import numpy as np\n",
    "import pandas as pd\n",
    "import time"
   ]
  },
  {
   "cell_type": "code",
   "execution_count": null,
   "metadata": {},
   "outputs": [],
   "source": [
    "# Definir diretório principal\n",
    "dirpath = input('Diretório principal: ')"
   ]
  },
  {
   "cell_type": "code",
   "execution_count": null,
   "metadata": {},
   "outputs": [],
   "source": [
    "# Definir as pastas com a aptidão solo por UF\n",
    "originais_path = input('Pasta com originais: ')"
   ]
  },
  {
   "cell_type": "code",
   "execution_count": null,
   "metadata": {},
   "outputs": [],
   "source": [
    "# Definir caminho do shapefile que será usado como máscara para recorte (Municípios do BR - sem Buffer)\n",
    "limites = input('Caminho Municípios: ')"
   ]
  },
  {
   "cell_type": "code",
   "execution_count": null,
   "metadata": {},
   "outputs": [],
   "source": [
    "# Lendo shapefile de Municípios do BR\n",
    "lim = gpd.read_file(limites)\n",
    "# Reprojetando o shapefile para WGS84\n",
    "lim = lim.to_crs(epsg=4326)\n",
    "# Criar pasta para armazenar Aptidão Solo corrigida\n",
    "out_path = os.path.join(dirpath, 'Aptidao_Solo_Corrigida')\n",
    "os.makedirs(out_path, exist_ok=True)\n",
    "# Caminhos dos vetores de aptidão solo\n",
    "vetores = glob.glob(originais_path + f'**/*.shp')\n",
    "# Agrupar por Estado para ser possível iterar sob as feições\n",
    "agrupado = lim.groupby('SIGLA_UF')\n",
    "for vetor in vetores:\n",
    "    for key, values in agrupado:\n",
    "        if key in vetor:\n",
    "            aptidao = gpd.read_file(vetor)\n",
    "            output = out_path + f'\\Aptd_Edafo_{key}_temp1.shp'\n",
    "            estado = lim[lim['SIGLA_UF'] == f\"{key}\"]\n",
    "            erase = estado.overlay(aptidao, how='difference', keep_geom_type=True)\n",
    "            single = erase.explode(ignore_index=True)\n",
    "            single.to_file(driver = 'ESRI Shapefile', filename = (rf'{output}'))\n",
    "vetores_erase = glob.glob(out_path + f'**/*temp1.shp')\n",
    "vetores_aptidao = glob.glob(originais_path + f'**/*.shp')\n",
    "caminho_erase = []\n",
    "caminho_aptidao = []\n",
    "for arquivo in vetores_erase:\n",
    "    caminho = os.path.join(out_path,arquivo)\n",
    "    caminho_erase.append(caminho)\n",
    "for arquivo in vetores_aptidao:\n",
    "    caminho = os.path.join(originais_path,arquivo)\n",
    "    caminho_aptidao.append(caminho)\n",
    "vetores = caminho_erase + caminho_aptidao\n",
    "geodf = pd.concat([\n",
    "    gpd.read_file(vetor)\n",
    "    for vetor in vetores\n",
    "]).pipe(gpd.GeoDataFrame)\n",
    "for key, values in agrupado:\n",
    "    estado = lim[lim['SIGLA_UF'] == f\"{key}\"]\n",
    "    output = out_path + f'\\Aptd_Edafo_{key}_temp2.shp'\n",
    "    geodf_clip = gpd.clip(geodf, estado, keep_geom_type=True)\n",
    "    geodf_clip.to_file(driver = 'ESRI Shapefile', filename = rf'{output}')\n",
    "# Preenchendo os valores null com valores próximos\n",
    "vetores_temp2 = glob.glob(out_path + f'**/*temp2.shp')\n",
    "for arquivo in vetores_temp2:\n",
    "    temp2 = gpd.read_file(arquivo)\n",
    "    nome_arq = os.path.basename(arquivo).replace('temp2.shp', 'temp3.shp')\n",
    "    output = out_path + f'\\{nome_arq}'\n",
    "    null = temp2[temp2['APTD_EDAFO'].isna()]\n",
    "    not_null = temp2[temp2['APTD_EDAFO'].notna()]\n",
    "    gdfspatial  = null.sjoin_nearest(not_null, max_distance=5)\n",
    "    gdfspatial.to_file(driver = 'ESRI Shapefile', filename = (rf'{output}'))\n",
    "# Merge das feições com null preenchido e shape original de edafo\n",
    "vetores_temp3 = glob.glob(out_path + f'**/*temp3.shp')\n",
    "caminho_temp3 = []\n",
    "for arquivo in vetores_temp3:\n",
    "    caminho = os.path.join(out_path,arquivo)\n",
    "    caminho_temp3.append(caminho)\n",
    "vetores = caminho_temp3 + caminho_aptidao\n",
    "geodf = pd.concat([\n",
    "    gpd.read_file(vetor)\n",
    "    for vetor in vetores\n",
    "]).pipe(gpd.GeoDataFrame)\n",
    "for key, values in agrupado:\n",
    "    estado = lim[lim['SIGLA_UF'] == f\"{key}\"]\n",
    "    output = out_path + f'\\Aptd_Edafo_{key}_temp4.shp'\n",
    "    geodf_clip = gpd.clip(geodf, estado, keep_geom_type=True)\n",
    "    geodf_clip.to_file(driver = 'ESRI Shapefile', filename = rf'{output}')\n",
    "# Exportando apenas colunas necessárias\n",
    "vetores_temp4 = glob.glob(out_path + f'**/*temp4.shp')\n",
    "for vetor in vetores_temp4:\n",
    "    temp4 = gpd.read_file(vetor)\n",
    "    colunas = list(temp4.columns)\n",
    "    colunas = [coluna for coluna in colunas if 'EDA' not in coluna and 'LEG' not in coluna and 'geometry' not in coluna]\n",
    "    temp4 = temp4.drop(colunas, axis = 1).pipe(gpd.GeoDataFrame)\n",
    "    temp4['APTD_EDAFO'].fillna(temp4['APTD_EDA_1'], inplace=True)\n",
    "    temp4['CD_EDAFO'].fillna(temp4['CD_EDAFO_r'], inplace=True)\n",
    "    temp4['CD_EDAFO'].fillna(temp4['CD_EDAFO_l'], inplace=True)\n",
    "    temp4['LEG_SOLO'].fillna(temp4['LEG_SOLO_r'], inplace=True)\n",
    "    temp4['LEG_SOLO'].fillna(temp4['LEG_SOLO_l'], inplace=True)\n",
    "    remover = ['APTD_EDA_1', 'CD_EDAFO_r', 'CD_EDAFO_l', 'LEG_SOLO_r', 'LEG_SOLO_l']\n",
    "    temp4 = temp4.drop(remover, axis = 1).pipe(gpd.GeoDataFrame)\n",
    "    nome = os.path.basename(vetor).replace('_temp4.shp', '_corrigido.shp')\n",
    "    output = out_path + f\"\\{nome}\"\n",
    "    temp4.to_file(driver = 'ESRI Shapefile', filename = rf'{output}')\n",
    "# Remover os arquivos temporários da pasta\n",
    "time.sleep(5)\n",
    "def excluir_arquivos_temporarios(pasta):\n",
    "    for nome_arquivo in os.listdir(pasta):\n",
    "        if \"temp\" in nome_arquivo:\n",
    "            caminho_arquivo = os.path.join(pasta, nome_arquivo)\n",
    "            if os.path.isfile(caminho_arquivo):\n",
    "                os.remove(caminho_arquivo)\n",
    "                print(f\"Arquivo excluído: {caminho_arquivo}\")\n",
    "diretorio = out_path\n",
    "excluir_arquivos_temporarios(diretorio)"
   ]
  }
 ],
 "metadata": {
  "kernelspec": {
   "display_name": "geo",
   "language": "python",
   "name": "python3"
  },
  "language_info": {
   "codemirror_mode": {
    "name": "ipython",
    "version": 3
   },
   "file_extension": ".py",
   "mimetype": "text/x-python",
   "name": "python",
   "nbconvert_exporter": "python",
   "pygments_lexer": "ipython3",
   "version": "3.11.5"
  },
  "orig_nbformat": 4
 },
 "nbformat": 4,
 "nbformat_minor": 2
}
