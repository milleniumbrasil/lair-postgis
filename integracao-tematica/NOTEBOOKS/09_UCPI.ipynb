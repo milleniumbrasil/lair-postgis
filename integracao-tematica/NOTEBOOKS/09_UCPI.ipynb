{
 "cells": [
  {
   "cell_type": "markdown",
   "metadata": {},
   "source": [
    "#### Script para recortar a base de Unidades de Conservação de Proteção Integral por Estado e por Municípios\n",
    "\n",
    "Projeto: Sistema de Apoio à Caracterização de Imóveis Rurais  \n",
    "Embrapa/2023"
   ]
  },
  {
   "cell_type": "code",
   "execution_count": 2,
   "metadata": {},
   "outputs": [],
   "source": [
    "# Módulos necessários\n",
    "import geopandas as gpd\n",
    "import os\n",
    "import glob\n",
    "import numpy as np"
   ]
  },
  {
   "cell_type": "code",
   "execution_count": 3,
   "metadata": {},
   "outputs": [],
   "source": [
    "# Definir diretório principal\n",
    "dirpath = input('Diretório principal: ')"
   ]
  },
  {
   "cell_type": "code",
   "execution_count": 4,
   "metadata": {},
   "outputs": [],
   "source": [
    "# Definir caminho do shapefile arquivo original de Unidades de Conservação\n",
    "unidades = input('Caminho Unidades de Conservação: ')"
   ]
  },
  {
   "cell_type": "code",
   "execution_count": 5,
   "metadata": {},
   "outputs": [],
   "source": [
    "# Definir caminho do shapefile que será usado como máscara para recorte (Municípios do BR - sem Buffer)\n",
    "limites = input('Caminho Municípios: ')"
   ]
  },
  {
   "cell_type": "code",
   "execution_count": 24,
   "metadata": {},
   "outputs": [
    {
     "name": "stderr",
     "output_type": "stream",
     "text": [
      "c:\\Users\\youx\\miniconda3\\envs\\geo\\Lib\\site-packages\\geopandas\\geodataframe.py:1538: SettingWithCopyWarning: \n",
      "A value is trying to be set on a copy of a slice from a DataFrame.\n",
      "Try using .loc[row_indexer,col_indexer] = value instead\n",
      "\n",
      "See the caveats in the documentation: https://pandas.pydata.org/pandas-docs/stable/user_guide/indexing.html#returning-a-view-versus-a-copy\n",
      "  super().__setitem__(key, value)\n"
     ]
    }
   ],
   "source": [
    "# Ler o shapefile de Unidades de Conservação\n",
    "base = gpd.read_file(unidades)\n",
    "base = base.to_crs(epsg=4326)\n",
    "# Lendo shapefile de Municípios\n",
    "lim = gpd.read_file(limites)\n",
    "lim = lim.to_crs(epsg=4326)\n",
    "# Criar pasta para armazenar a base de UCPI recortada por estado\n",
    "uf_path = os.path.join(dirpath, 'UCPI_Estados')\n",
    "os.makedirs(uf_path, exist_ok=True)\n",
    "# Criar pasta para armazenar a base de UCPI recortada por municípios\n",
    "mun_path = os.path.join(dirpath, 'UCPI_Municipios')\n",
    "os.makedirs(mun_path, exist_ok=True)\n",
    "# Selecionar apenas as feições de UCPI e sem Unidades de Conservação\n",
    "ucpi = base[['UCMI_C', 'UCEI_C', 'UCFI_C', 'geometry']]\n",
    "# Função para atribuir valor 0 ou 1 com base nas condições\n",
    "def assign_CD_UCPI(row):\n",
    "    if row['UCMI_C'] == 0 and row['UCEI_C'] == 0 and row['UCFI_C'] == 0:\n",
    "        return 0\n",
    "    else:\n",
    "        return 1\n",
    "# Aplicar a função a cada linha do DataFrame\n",
    "ucpi['CD_UCPI'] = ucpi.apply(assign_CD_UCPI, axis=1)\n",
    "# Excluir colunas desnecessárias\n",
    "ucpi = ucpi.drop(['UCMI_C', 'UCEI_C', 'UCFI_C'], axis = 1)\n",
    "# Cortar por estado\n",
    "# Agrupar por estado\n",
    "agrupado = lim.groupby('SIGLA_UF')\n",
    "for key,values in agrupado:\n",
    "    output = uf_path + fr'\\UCPI_{key}.shp'\n",
    "    uf = lim[lim[\"SIGLA_UF\"] == f\"{key}\"]\n",
    "    geodf_clip = gpd.clip(ucpi, uf, keep_geom_type=True)\n",
    "    geodf_clip.to_file(driver = 'ESRI Shapefile', filename = (rf'{output}'))\n",
    "# Lista dos estados\n",
    "estados = list(np.unique(lim['SIGLA_UF']))\n",
    "# Cortar por município\n",
    "for estado in estados:\n",
    "    shapes = glob.glob(uf_path + f'**/*{estado}.shp')\n",
    "    # Selecionar GeoDataFrame por estado\n",
    "    select = lim[lim['SIGLA_UF'] == f'{estado}']\n",
    "    # Agrupar por município\n",
    "    agrupado = select.groupby('CD_MUN')\n",
    "    for shape in shapes:\n",
    "        for key,values in agrupado:\n",
    "            ucpi = gpd.read_file(shape)\n",
    "            ucpi = ucpi.to_crs(epsg=4326)\n",
    "            nome_arq = os.path.basename(shape)\n",
    "            nome_arq = nome_arq.replace('.shp', fr'_{key}.shp')\n",
    "            output = mun_path + f\"\\{nome_arq}\"\n",
    "            mun = lim[lim[\"CD_MUN\"] == f\"{key}\"]\n",
    "            geodf_clip = gpd.clip(ucpi, mun, keep_geom_type=True)\n",
    "            geodf_clip.to_file(driver = 'ESRI Shapefile', filename = (rf'{output}'))"
   ]
  }
 ],
 "metadata": {
  "kernelspec": {
   "display_name": "geo",
   "language": "python",
   "name": "python3"
  },
  "language_info": {
   "codemirror_mode": {
    "name": "ipython",
    "version": 3
   },
   "file_extension": ".py",
   "mimetype": "text/x-python",
   "name": "python",
   "nbconvert_exporter": "python",
   "pygments_lexer": "ipython3",
   "version": "3.11.5"
  },
  "orig_nbformat": 4
 },
 "nbformat": 4,
 "nbformat_minor": 2
}
