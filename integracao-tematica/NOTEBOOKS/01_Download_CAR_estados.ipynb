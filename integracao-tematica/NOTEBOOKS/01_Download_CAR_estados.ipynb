{
  "cells": [
    {
      "cell_type": "code",
      "execution_count": null,
      "metadata": {
        "id": "by49aF9TYuy7"
      },
      "outputs": [],
      "source": [
        "# Conectar ao Google Drive\n",
        "from google.colab import drive\n",
        "drive.mount('/content/drive')"
      ]
    },
    {
      "cell_type": "code",
      "execution_count": null,
      "metadata": {
        "id": "KqcmnGEuY8Gf"
      },
      "outputs": [],
      "source": [
        "# Instalação dos pacotes necessários\n",
        "!pip install git+https://github.com/urbanogilson/SICAR\n",
        "!sudo apt install tesseract-ocr -y"
      ]
    },
    {
      "cell_type": "code",
      "execution_count": null,
      "metadata": {
        "id": "Bc9ozJxdZJJ8"
      },
      "outputs": [],
      "source": [
        "# Importação dos pacotes necessários\n",
        "from SICAR import Sicar\n",
        "import pprint"
      ]
    },
    {
      "cell_type": "code",
      "execution_count": null,
      "metadata": {
        "id": "ilb4r-ZhZVTL"
      },
      "outputs": [],
      "source": [
        "# Login para acessar o Sicar\n",
        "car = Sicar(email = \"sicar@sicar.com\")"
      ]
    },
    {
      "cell_type": "code",
      "execution_count": null,
      "metadata": {
        "id": "X7X79Db7ZbDq"
      },
      "outputs": [],
      "source": [
        "# Lista com estados de interesse para download\n",
        "states = ['AC','AM','PA','AP','TO','MA','PI','CE','RN','PB','PE','AL','SE','BA','MG','ES','RJ','SP','PR','SC','RS','MS','MT','GO','DF','RO','RR']"
      ]
    },
    {
      "cell_type": "code",
      "source": [
        "# Caminho do drive onde será armazenado os downloads\n",
        "caminho = input('Caminho do drive: ')"
      ],
      "metadata": {
        "id": "hjXF805hGBa8"
      },
      "execution_count": null,
      "outputs": []
    },
    {
      "cell_type": "code",
      "execution_count": null,
      "metadata": {
        "id": "b_1xzIlkZ7hx"
      },
      "outputs": [],
      "source": [
        "# Download dos estados de acordo com a lista\n",
        "for state in states:\n",
        "  car.download_state(state=f'{state}', folder=f'{caminho}/{state}', debug=False)"
      ]
    }
  ],
  "metadata": {
    "colab": {
      "provenance": []
    },
    "kernelspec": {
      "display_name": "Python 3",
      "name": "python3"
    },
    "language_info": {
      "name": "python"
    }
  },
  "nbformat": 4,
  "nbformat_minor": 0
}