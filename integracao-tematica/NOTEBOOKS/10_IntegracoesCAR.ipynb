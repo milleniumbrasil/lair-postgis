{
 "cells": [
  {
   "cell_type": "markdown",
   "metadata": {},
   "source": [
    "#### Script para integração dos limites de imóveis rurais do CAR com as bases: Usos ABC, Declividade, Edafo, TI, UCPI, Amazônia Legal e Municípios\n",
    "\n",
    "Projeto: Sistema de Apoio à Caracterização de Imóveis Rurais  \n",
    "Embrapa/2023"
   ]
  },
  {
   "cell_type": "code",
   "execution_count": 2,
   "metadata": {},
   "outputs": [],
   "source": [
    "# Módulos necessários\n",
    "import os\n",
    "import glob\n",
    "import geopandas as gpd"
   ]
  },
  {
   "cell_type": "code",
   "execution_count": 3,
   "metadata": {},
   "outputs": [],
   "source": [
    "# Definir diretório principal de Integrações\n",
    "dirpath = input('Diretório principal: ')"
   ]
  },
  {
   "cell_type": "code",
   "execution_count": 4,
   "metadata": {},
   "outputs": [],
   "source": [
    "# Definir pasta com os arquivos do CAR\n",
    "car_path = input('Diretório do CAR: ')"
   ]
  },
  {
   "cell_type": "code",
   "execution_count": null,
   "metadata": {},
   "outputs": [],
   "source": [
    "# Definir caminho da pasta: Usos_ABC_Municipios\n",
    "uso_path = input('Diretório dos Usos ABC por município: ')"
   ]
  },
  {
   "cell_type": "code",
   "execution_count": null,
   "metadata": {},
   "outputs": [],
   "source": [
    "# Definir caminho da pasta: Decliv_UF_Municipios\n",
    "decl_path = input('Diretório da Declividade por município: ')"
   ]
  },
  {
   "cell_type": "code",
   "execution_count": null,
   "metadata": {},
   "outputs": [],
   "source": [
    "# Definir caminho da pasta: Aptd_Edafo_Municipios\n",
    "edafo_path = input('Diretório da Aptidão do Solo por município: ')"
   ]
  },
  {
   "cell_type": "code",
   "execution_count": null,
   "metadata": {},
   "outputs": [],
   "source": [
    "# Definir caminho da pasta: Terras_Indigenas_Municipios\n",
    "ti_path = input('Diretório da Terra Indígena por município: ')"
   ]
  },
  {
   "cell_type": "code",
   "execution_count": null,
   "metadata": {},
   "outputs": [],
   "source": [
    "# Definir caminho da pasta: UCPI_Municipios\n",
    "ucpi_path = input('Diretório de UCPI por município: ')"
   ]
  },
  {
   "cell_type": "code",
   "execution_count": null,
   "metadata": {},
   "outputs": [],
   "source": [
    "# Definir caminho da pasta: Amz_Legal_Municipios\n",
    "amz_path = input('Diretório de Amazônia Legal por município: ')"
   ]
  },
  {
   "cell_type": "code",
   "execution_count": null,
   "metadata": {},
   "outputs": [],
   "source": [
    "# Definir caminho do shapefile de Municípios\n",
    "mun_path = input('Shapefile de Municípios: ')"
   ]
  },
  {
   "cell_type": "code",
   "execution_count": 5,
   "metadata": {},
   "outputs": [],
   "source": [
    "# Listar anos de integração\n",
    "anos = ['2008', '2021']"
   ]
  },
  {
   "cell_type": "code",
   "execution_count": 7,
   "metadata": {},
   "outputs": [],
   "source": [
    "# Criar pasta para armazenar arquivos temporários\n",
    "temp_path = os.path.join(dirpath, 'Temporarios')\n",
    "os.makedirs(temp_path, exist_ok=True)\n",
    "# Renomeando AREA_IMOVEL para seus respectivos municípios\n",
    "municipios = []\n",
    "# Percorre a pasta 'CAR' e suas subpastas\n",
    "for root, dirs, files in os.walk(car_path):\n",
    "    for dir in dirs:\n",
    "        # Verifica se o nome da subpasta é um código de município\n",
    "        if dir.startswith('SHAPE_'):\n",
    "            municipio_codigo = dir.split('_')[1]\n",
    "            municipios.append(municipio_codigo)\n",
    "            # Constrói o caminho completo para a pasta 'AREA_IMOVEL'\n",
    "            area_imovel_dir = os.path.join(root, dir, 'AREA_IMOVEL')\n",
    "            \n",
    "            # Verifica se a pasta 'AREA_IMOVEL' existe\n",
    "            if os.path.exists(area_imovel_dir):\n",
    "                # Renomeia os arquivos dentro de 'AREA_IMOVEL'\n",
    "                for filename in os.listdir(area_imovel_dir):\n",
    "                    if filename.startswith('AREA_IMOVEL'):\n",
    "                        novo_nome = f'{municipio_codigo}_{filename}'\n",
    "                        arquivo_antigo = os.path.join(area_imovel_dir, filename)\n",
    "                        novo_arquivo = os.path.join(area_imovel_dir, novo_nome)\n",
    "                        os.rename(arquivo_antigo, novo_arquivo)\n",
    "                        print(f'Renomeado: {arquivo_antigo} -> {novo_arquivo}')"
   ]
  },
  {
   "cell_type": "code",
   "execution_count": null,
   "metadata": {},
   "outputs": [],
   "source": [
    "# Interseção 1 - Usos ABC + CAR\n",
    "for ano in anos:\n",
    "    # Caminho dos vetores dos Usos ABC\n",
    "    usos = glob.glob(uso_path + fr'**/*/*_{ano}_*.shp')\n",
    "    # Caminho dos vetores de limites dos imóveis\n",
    "    car = glob.glob(car_path + '**/*/*/*/*.shp')\n",
    "    caminho_usos = []\n",
    "    caminho_car = []\n",
    "    for arquivo in usos:\n",
    "        caminho = os.path.join(uso_path,arquivo)\n",
    "        caminho_usos.append(caminho)\n",
    "    for arquivo in car:\n",
    "        caminho = os.path.join(car_path,arquivo)\n",
    "        caminho_car.append(caminho)\n",
    "    vetores = caminho_usos + caminho_car\n",
    "    for municipio in municipios:\n",
    "        for vetor in vetores:\n",
    "            if municipio in vetor and 'Usos' in vetor:\n",
    "                nome_arq = os.path.basename(vetor).replace('.shp', '_CAR.shp')\n",
    "                uso = gpd.read_file(vetor)\n",
    "            if municipio in vetor and 'AREA_IMOVEL' in vetor:\n",
    "                area = gpd.read_file(vetor)\n",
    "        base_car = gpd.overlay(uso, area, how='intersection', keep_geom_type=True)\n",
    "        base_car.to_file(driver = 'ESRI Shapefile', filename = (rf'{temp_path}\\{nome_arq}'))"
   ]
  },
  {
   "cell_type": "code",
   "execution_count": null,
   "metadata": {},
   "outputs": [],
   "source": [
    "# Interseção 2 - Interseção 1 + Declividade\n",
    "for ano in anos:\n",
    "    # Caminho dos vetores de Interseção 1\n",
    "    int = glob.glob(temp_path + fr'**/*{ano}*CAR.shp')\n",
    "    # Caminho dos vetores de Declividade\n",
    "    base = glob.glob(decl_path + '**/*.shp')\n",
    "    caminho_int = []\n",
    "    caminho_base = []\n",
    "    for arquivo in int:\n",
    "        caminho = os.path.join(temp_path,arquivo)\n",
    "        caminho_int.append(caminho)\n",
    "    for arquivo in base:\n",
    "        caminho = os.path.join(decl_path,arquivo)\n",
    "        caminho_base.append(caminho)\n",
    "    vetores = caminho_int + caminho_base\n",
    "    for municipio in municipios:\n",
    "        for vetor in vetores:\n",
    "            if municipio in vetor and 'Usos' in vetor:\n",
    "                nome_arq = os.path.basename(vetor).replace('CAR.shp', 'Decl_CAR.shp')\n",
    "                uso = gpd.read_file(vetor)\n",
    "            if municipio in vetor and 'Decliv' in vetor:\n",
    "                area = gpd.read_file(vetor)\n",
    "        base_car = gpd.overlay(uso, area, how='intersection', keep_geom_type=True)\n",
    "        base_car.to_file(driver = 'ESRI Shapefile', filename = (rf'{temp_path}\\{nome_arq}'))\n",
    "# Dissolve\n",
    "base = glob.glob(temp_path + '**/*Decl_CAR.shp')\n",
    "for arquivo in base:\n",
    "    arq = gpd.read_file(arquivo)\n",
    "    nome_arq = os.path.basename(arquivo)\n",
    "    diss = arq.dissolve(by=['CD_USO', 'COD_IMOVEL', 'COD_ESTADO', 'NOM_MUNICI', 'NUM_MODULO', 'CD_DECLIV'], as_index=True)\n",
    "    diss.to_file(driver = 'ESRI Shapefile', filename = (rf'{temp_path}\\{nome_arq}'))"
   ]
  },
  {
   "cell_type": "code",
   "execution_count": null,
   "metadata": {},
   "outputs": [],
   "source": [
    "# Interseção 3 - Interseção 2 + Edafo\n",
    "for ano in anos:\n",
    "    # Caminho dos vetores de Interseção 2\n",
    "    int = glob.glob(temp_path + fr'**/*{ano}*Decl_CAR.shp')\n",
    "    # Caminho dos vetores de Edafo\n",
    "    base = glob.glob(edafo_path + '**/*.shp')\n",
    "    caminho_int = []\n",
    "    caminho_base = []\n",
    "    for arquivo in int:\n",
    "        caminho = os.path.join(temp_path,arquivo)\n",
    "        caminho_int.append(caminho)\n",
    "    for arquivo in base:\n",
    "        caminho = os.path.join(edafo_path,arquivo)\n",
    "        caminho_base.append(caminho)\n",
    "    vetores = caminho_int + caminho_base\n",
    "    for municipio in municipios:\n",
    "        for vetor in vetores:\n",
    "            if municipio in vetor and 'Usos' in vetor:\n",
    "                nome_arq = os.path.basename(vetor).replace('CAR.shp', 'Aptd_CAR.shp')\n",
    "                uso = gpd.read_file(vetor)\n",
    "            if municipio in vetor and 'Aptd' in vetor:\n",
    "                area = gpd.read_file(vetor)\n",
    "        base_car = gpd.overlay(uso, area, how='intersection', keep_geom_type=True)\n",
    "        base_car.to_file(driver = 'ESRI Shapefile', filename = (rf'{temp_path}\\{nome_arq}'))\n",
    "# Dissolve\n",
    "base = glob.glob(temp_path + '**/*Aptd_CAR.shp')\n",
    "for arquivo in base:\n",
    "    arq = gpd.read_file(arquivo)\n",
    "    nome_arq = os.path.basename(arquivo)\n",
    "    diss = arq.dissolve(by=['CD_USO', 'COD_IMOVEL', 'COD_ESTADO', 'NOM_MUNICI', 'NUM_MODULO', 'CD_DECLIV', 'APTD_EDAFO', 'CD_EDAFO', 'LEG_SOLO'], as_index=True)\n",
    "    diss.to_file(driver = 'ESRI Shapefile', filename = (rf'{temp_path}\\{nome_arq}'))"
   ]
  },
  {
   "cell_type": "code",
   "execution_count": null,
   "metadata": {},
   "outputs": [],
   "source": [
    "# Interseção 4 - Interseção 3 + TI\n",
    "for ano in anos:\n",
    "    # Caminho dos vetores de Interseção 3\n",
    "    int = glob.glob(temp_path + fr'**/*{ano}*Aptd_CAR.shp')\n",
    "    # Caminho dos vetores de TI\n",
    "    base = glob.glob(ti_path + '**/*.shp')\n",
    "    caminho_int = []\n",
    "    caminho_base = []\n",
    "    for arquivo in int:\n",
    "        caminho = os.path.join(temp_path,arquivo)\n",
    "        caminho_int.append(caminho)\n",
    "    for arquivo in base:\n",
    "        caminho = os.path.join(ti_path,arquivo)\n",
    "        caminho_base.append(caminho)\n",
    "    vetores = caminho_int + caminho_base\n",
    "    for municipio in municipios:\n",
    "        for vetor in vetores:\n",
    "            if municipio in vetor and 'Usos' in vetor:\n",
    "                nome_arq = os.path.basename(vetor).replace('CAR.shp', 'TI_CAR.shp')\n",
    "                uso = gpd.read_file(vetor)\n",
    "            if municipio in vetor and 'TI' in vetor:\n",
    "                area = gpd.read_file(vetor)\n",
    "        base_car = gpd.overlay(uso, area, how='intersection', keep_geom_type=True)\n",
    "        base_car.to_file(driver = 'ESRI Shapefile', filename = (rf'{temp_path}\\{nome_arq}'))\n",
    "# Dissolve\n",
    "base = glob.glob(temp_path + '**/*TI_CAR.shp')\n",
    "for arquivo in base:\n",
    "    arq = gpd.read_file(arquivo)\n",
    "    nome_arq = os.path.basename(arquivo)\n",
    "    diss = arq.dissolve(by=['CD_USO', 'COD_IMOVEL', 'COD_ESTADO', 'NOM_MUNICI', 'NUM_MODULO', 'CD_DECLIV', 'APTD_EDAFO', 'CD_EDAFO', 'LEG_SOLO', 'CD_TERRIND'], as_index=True)\n",
    "    diss.to_file(driver = 'ESRI Shapefile', filename = (rf'{temp_path}\\{nome_arq}'))"
   ]
  },
  {
   "cell_type": "code",
   "execution_count": null,
   "metadata": {},
   "outputs": [],
   "source": [
    "# Interseção 5 - Interseção 4 + UCPI\n",
    "for ano in anos:\n",
    "    # Caminho dos vetores de Interseção 4\n",
    "    int = glob.glob(temp_path + fr'**/*{ano}*TI_CAR.shp')\n",
    "    # Caminho dos vetores de UCPI\n",
    "    base = glob.glob(ucpi_path + '**/*.shp')\n",
    "    caminho_int = []\n",
    "    caminho_base = []\n",
    "    for arquivo in int:\n",
    "        caminho = os.path.join(temp_path,arquivo)\n",
    "        caminho_int.append(caminho)\n",
    "    for arquivo in base:\n",
    "        caminho = os.path.join(ti_path,arquivo)\n",
    "        caminho_base.append(caminho)\n",
    "    vetores = caminho_int + caminho_base\n",
    "    for municipio in municipios:\n",
    "        for vetor in vetores:\n",
    "            if municipio in vetor and 'Usos' in vetor:\n",
    "                nome_arq = os.path.basename(vetor).replace('CAR.shp', 'UCPI_CAR.shp')\n",
    "                uso = gpd.read_file(vetor)\n",
    "            if municipio in vetor and 'UCPI' in vetor:\n",
    "                area = gpd.read_file(vetor)\n",
    "        base_car = gpd.overlay(uso, area, how='intersection', keep_geom_type=True)\n",
    "        base_car.to_file(driver = 'ESRI Shapefile', filename = (rf'{temp_path}\\{nome_arq}'))\n",
    "# Dissolve\n",
    "base = glob.glob(temp_path + '**/*UCPI_CAR.shp')\n",
    "for arquivo in base:\n",
    "    arq = gpd.read_file(arquivo)\n",
    "    nome_arq = os.path.basename(arquivo)\n",
    "    diss = arq.dissolve(by=['CD_USO', 'COD_IMOVEL', 'COD_ESTADO', 'NOM_MUNICI', 'NUM_MODULO', 'CD_DECLIV', 'APTD_EDAFO', 'CD_EDAFO', 'LEG_SOLO', 'CD_TERRIND', 'CD_UCPI'], as_index=True)\n",
    "    diss.to_file(driver = 'ESRI Shapefile', filename = (rf'{temp_path}\\{nome_arq}'))"
   ]
  },
  {
   "cell_type": "code",
   "execution_count": null,
   "metadata": {},
   "outputs": [],
   "source": [
    "# Interseção 6 - Interseção 5 + Amazônia Legal\n",
    "for ano in anos:\n",
    "    # Caminho dos vetores de Interseção 5\n",
    "    int = glob.glob(temp_path + fr'**/*{ano}*UCPI_CAR.shp')\n",
    "    # Caminho dos vetores de Amazônia Legal\n",
    "    base = glob.glob(amz_path + '**/*.shp')\n",
    "    caminho_int = []\n",
    "    caminho_base = []\n",
    "    for arquivo in int:\n",
    "        caminho = os.path.join(temp_path,arquivo)\n",
    "        caminho_int.append(caminho)\n",
    "    for arquivo in base:\n",
    "        caminho = os.path.join(ti_path,arquivo)\n",
    "        caminho_base.append(caminho)\n",
    "    vetores = caminho_int + caminho_base\n",
    "    for municipio in municipios:\n",
    "        for vetor in vetores:\n",
    "            if municipio in vetor and 'Usos' in vetor:\n",
    "                nome_arq = os.path.basename(vetor).replace('CAR.shp', 'AMZ_CAR.shp')\n",
    "                uso = gpd.read_file(vetor)\n",
    "            if municipio in vetor and 'Amz' in vetor:\n",
    "                area = gpd.read_file(vetor)\n",
    "        base_car = gpd.overlay(uso, area, how='intersection', keep_geom_type=True)\n",
    "        base_car.to_file(driver = 'ESRI Shapefile', filename = (rf'{temp_path}\\{nome_arq}'))\n",
    "# Dissolve\n",
    "base = glob.glob(temp_path + '**/*AMZ_CAR.shp')\n",
    "for arquivo in base:\n",
    "    arq = gpd.read_file(arquivo)\n",
    "    nome_arq = os.path.basename(arquivo)\n",
    "    diss = arq.dissolve(by=['CD_USO', 'COD_IMOVEL', 'COD_ESTADO', 'NOM_MUNICI', 'NUM_MODULO', 'CD_DECLIV', 'APTD_EDAFO', 'CD_EDAFO', 'LEG_SOLO', 'CD_TERRIND', 'CD_UCPI', 'CD_AMZLG'], as_index=True)\n",
    "    diss.to_file(driver = 'ESRI Shapefile', filename = (rf'{temp_path}\\{nome_arq}'))"
   ]
  },
  {
   "cell_type": "code",
   "execution_count": null,
   "metadata": {},
   "outputs": [],
   "source": [
    "# Interseção 7 - Interseção 6 + Municípios\n",
    "for ano in anos:\n",
    "    # Caminho dos vetores de Interseção 5\n",
    "    int = glob.glob(temp_path + fr'**/*{ano}*AMZ_CAR.shp')\n",
    "    municipios = gpd.read_file(mun_path)\n",
    "    for arquivo in int:\n",
    "        nome_arq = os.path.basename(arquivo)\n",
    "        uso = gpd.read_file(arquivo)\n",
    "        base_car = gpd.overlay(uso, municipios, how='intersection', keep_geom_type=True)\n",
    "        base_car.to_file(driver = 'ESRI Shapefile', filename = (rf'{temp_path}\\{nome_arq}'))\n",
    "# Dissolve\n",
    "base = glob.glob(temp_path + '**/*AMZ_CAR.shp')\n",
    "for arquivo in base:\n",
    "    arq = gpd.read_file(arquivo)\n",
    "    nome_arq = os.path.basename(arquivo)\n",
    "    diss = arq.dissolve(by=['CD_USO', 'COD_IMOVEL', 'COD_ESTADO', 'NOM_MUNICI', 'NUM_MODULO', 'CD_DECLIV', 'APTD_EDAFO', 'CD_EDAFO', 'LEG_SOLO', 'CD_TERRIND', 'CD_UCPI', 'CD_AMZLG', 'CD_MUN'], as_index=True)\n",
    "    diss.to_file(driver = 'ESRI Shapefile', filename = (rf'{temp_path}\\{nome_arq}'))"
   ]
  },
  {
   "cell_type": "code",
   "execution_count": 9,
   "metadata": {},
   "outputs": [],
   "source": [
    "# Criar pasta para armazenar arquivos finais de Potencial Agropecuário\n",
    "pot_path = os.path.join(dirpath, 'Potencial_Agropecuario')\n",
    "os.makedirs(temp_path, exist_ok=True)\n",
    "# Adequando o arquivo para o Banco de Dados\n",
    "base = glob.glob(temp_path + '**/*AMZ_CAR.shp')\n",
    "for arquivo in base:\n",
    "    arq = gpd.read_file(arquivo)\n",
    "    arq = arq.drop(['NUM_AREA', 'TIPO_IMOVE', 'SITUACAO', 'CONDICAO_I', 'terrai_cod', 'AMZLG_HA_C', 'NM_MUN', 'SIGLA_UF', 'AREA_KM2'], axis = 1)\n",
    "    converter_colunas = ['CD_USO', 'CD_DECLIV', 'CD_UCPI']\n",
    "    arq[converter_colunas] = arq[converter_colunas].astype('object')\n",
    "    ordem = ['CD_USO', 'COD_IMOVEL', 'COD_ESTADO', 'NOM_MUNICI', 'NUM_MODULO', 'CD_MUN', 'CD_DECLIV', 'APTD_EDAFO', 'CD_EDAFO', 'LEG_SOLO', 'CD_AMZLG', 'CD_UCPI', 'CD_TERRIND', 'geometry']\n",
    "    arq = arq.reindex(columns=ordem)\n",
    "    arq.columns = arq.columns.str.lower()\n",
    "    nome_arq = os.path.basename(arquivo).replace('Usos_ABC', 'Potencial_Agropecuario').replace('_Decl_Aptd_TI_UCPI_AMZ_CAR.shp', '.shp')\n",
    "    # Adequando o encoding para utf-8\n",
    "    # Definir coluna a ser ajustada\n",
    "    coluna = 'nom_munici'\n",
    "    # Extraindo valores únicos da coluna\n",
    "    valoresUnicos = arq[coluna].unique()\n",
    "    for valor in valoresUnicos:\n",
    "        valor_encode = valor.encode('iso-8859-1')\n",
    "        valor_decode = str(valor_encode.decode('utf-8'))\n",
    "        arq.loc[arq[coluna]==f'{valor}',coluna] = f'{valor_decode}'\n",
    "        arq.to_file(driver = 'ESRI Shapefile', filename = (rf'{pot_path}\\{nome_arq}'))"
   ]
  }
 ],
 "metadata": {
  "kernelspec": {
   "display_name": "geo",
   "language": "python",
   "name": "python3"
  },
  "language_info": {
   "codemirror_mode": {
    "name": "ipython",
    "version": 3
   },
   "file_extension": ".py",
   "mimetype": "text/x-python",
   "name": "python",
   "nbconvert_exporter": "python",
   "pygments_lexer": "ipython3",
   "version": "3.11.5"
  },
  "orig_nbformat": 4
 },
 "nbformat": 4,
 "nbformat_minor": 2
}
