{
 "cells": [
  {
   "cell_type": "markdown",
   "metadata": {},
   "source": [
    "#### Script para adequar a base de Terra Indígena\n",
    "\n",
    "Projeto: Sistema de Apoio à Caracterização de Imóveis Rurais  \n",
    "Embrapa/2023"
   ]
  },
  {
   "cell_type": "code",
   "execution_count": 1,
   "metadata": {},
   "outputs": [],
   "source": [
    "# Módulos necessários\n",
    "import geopandas as gpd\n",
    "import pandas as pd\n",
    "import os\n",
    "import glob\n",
    "import numpy as np"
   ]
  },
  {
   "cell_type": "code",
   "execution_count": 2,
   "metadata": {},
   "outputs": [],
   "source": [
    "# Definir diretório principal\n",
    "dirpath = input('Diretório principal: ')"
   ]
  },
  {
   "cell_type": "code",
   "execution_count": 3,
   "metadata": {},
   "outputs": [],
   "source": [
    "# Definir caminho do shapefile original de Terra Indígena (tis_poligonais.shp)\n",
    "ti = input('Caminho Terra Indígena: ')"
   ]
  },
  {
   "cell_type": "code",
   "execution_count": 4,
   "metadata": {},
   "outputs": [],
   "source": [
    "# Definir caminho do shapefile de limite do Brasil\n",
    "br = input('Caminho do limite do Brasil: ')"
   ]
  },
  {
   "cell_type": "code",
   "execution_count": 5,
   "metadata": {},
   "outputs": [],
   "source": [
    "# Definir caminho do shapefile que será usado como máscara para recorte (Municípios do BR - sem Buffer)\n",
    "limites = input('Caminho Municípios: ')"
   ]
  },
  {
   "cell_type": "code",
   "execution_count": 7,
   "metadata": {},
   "outputs": [],
   "source": [
    "# Ler o arquivo original de Terra Indígena (tis_poligonais.shp)\n",
    "base = gpd.read_file(ti)\n",
    "base = base.to_crs(epsg=4326)\n",
    "# Ler limite do Brasil\n",
    "brasil = gpd.read_file(br)\n",
    "brasil = brasil.to_crs(epsg=4326)\n",
    "# Lendo shapefile de Municípios\n",
    "lim = gpd.read_file(limites)\n",
    "lim = lim.to_crs(epsg=4326)\n",
    "# Criar pasta para armazenar a base de Terra Indígena recortada por estado\n",
    "uf_path = os.path.join(dirpath, 'Terras_Indigenas_Estados')\n",
    "os.makedirs(uf_path, exist_ok=True)\n",
    "# Criar pasta para armazenar a base de Terra Indígena recortada por municípios\n",
    "mun_path = os.path.join(dirpath, 'Terras_Indigenas_Municipios')\n",
    "os.makedirs(mun_path, exist_ok=True)\n",
    "# Adicionar coluna TERRIND_C\n",
    "base['CD_TERRIND'] = '1'\n",
    "# Listar as colunas do dataframe\n",
    "colunas = list(base.columns)\n",
    "colunas = [coluna for coluna in colunas if 'CD_TERRIND' not in coluna and 'terrai_cod' not in coluna and 'geometry' not in coluna]\n",
    "# Excluindo as colunas desnecessárias\n",
    "base = base.drop(colunas, axis = 1)\n",
    "# Fazer a diferença entre a base de terras indígenas e o limite do Brasil\n",
    "erase = brasil.overlay(base, how='difference', keep_geom_type=True)\n",
    "# Transformar para Single Part\n",
    "single = erase.explode(ignore_index=True)\n",
    "# Merge da terra indígena com o erase\n",
    "merge = pd.concat([base, single]).pipe(gpd.GeoDataFrame)\n",
    "# Excluindo colunas desnecessárias\n",
    "merge = merge.drop(['NM_PAIS', 'AREA_KM2'], axis = 1)\n",
    "# Preencher os valores nulos por 0\n",
    "merge.update(merge['CD_TERRIND'].fillna('0'))\n",
    "# Cortar por estado\n",
    "# Agrupar por estado\n",
    "agrupado = lim.groupby('SIGLA_UF')\n",
    "for key,values in agrupado:\n",
    "    output = uf_path + f'\\TI_2022_{key}.shp'\n",
    "    mun = lim[lim[\"SIGLA_UF\"] == f\"{key}\"]\n",
    "    geodf_clip = gpd.clip(merge, mun)\n",
    "    geodf_clip.to_file(driver = 'ESRI Shapefile', filename = (rf'{output}'))\n",
    "# Lista dos estados\n",
    "estados = list(np.unique(lim['SIGLA_UF']))\n",
    "# Cortar por município\n",
    "for estado in estados:\n",
    "    shapes = glob.glob(uf_path + f'**/*{estado}.shp')\n",
    "    # Selecionar GeoDataFrame por estado\n",
    "    select = lim[lim['SIGLA_UF'] == f'{estado}']\n",
    "    # Agrupar por município\n",
    "    agrupado = select.groupby('CD_MUN')\n",
    "    for shape in shapes:\n",
    "        for key,values in agrupado:\n",
    "            ti = gpd.read_file(shape)\n",
    "            ti = ti.to_crs(epsg=4326)\n",
    "            nome_arq = os.path.basename(shape)\n",
    "            nome_arq = nome_arq.replace('.shp', f'_{key}.shp')\n",
    "            output = mun_path + f\"\\{nome_arq}\"\n",
    "            mun = lim[lim[\"CD_MUN\"] == f\"{key}\"]\n",
    "            geodf_clip = gpd.clip(ti, mun)\n",
    "            geodf_clip.to_file(driver = 'ESRI Shapefile', filename = (rf'{output}'))"
   ]
  }
 ],
 "metadata": {
  "kernelspec": {
   "display_name": "geo",
   "language": "python",
   "name": "python3"
  },
  "language_info": {
   "codemirror_mode": {
    "name": "ipython",
    "version": 3
   },
   "file_extension": ".py",
   "mimetype": "text/x-python",
   "name": "python",
   "nbconvert_exporter": "python",
   "pygments_lexer": "ipython3",
   "version": "3.11.5"
  },
  "orig_nbformat": 4
 },
 "nbformat": 4,
 "nbformat_minor": 2
}
