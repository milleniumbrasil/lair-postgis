{
 "cells": [
  {
   "cell_type": "code",
   "execution_count": 1,
   "metadata": {},
   "outputs": [],
   "source": [
    "# Imports\n",
    "from geoalchemy2 import Geometry, WKTElement\n",
    "from sqlalchemy import *\n",
    "import pandas as pd\n",
    "import geopandas as gpd\n",
    "import glob\n",
    "import os"
   ]
  },
  {
   "cell_type": "code",
   "execution_count": 3,
   "metadata": {},
   "outputs": [],
   "source": [
    "host = \"localhost:5438\"\n",
    "database = \"lair\"\n",
    "user = \"postgres\"\n",
    "password = \"postgres\""
   ]
  },
  {
   "cell_type": "code",
   "execution_count": 4,
   "metadata": {},
   "outputs": [],
   "source": [
    "connection_string = f\"postgresql://{user}:{password}@{host}/{database}\""
   ]
  },
  {
   "cell_type": "code",
   "execution_count": 5,
   "metadata": {},
   "outputs": [],
   "source": [
    "engine = create_engine(connection_string)"
   ]
  },
  {
   "cell_type": "code",
   "execution_count": 6,
   "metadata": {},
   "outputs": [],
   "source": [
    "base_path = r\"D:\\10_MILLENIUM\\04_DADOS\\01_DADOS_SANDRO\\faltantes\"\n",
    "shapefiles = glob.glob(base_path + f'**/*.shp')\n",
    "for shape in shapefiles:\n",
    "    gdf = gpd.read_file(shape)\n",
    "    gdf = gdf.to_crs(epsg=4326)\n",
    "    gdf = gdf.explode(ignore_index=True)\n",
    "    gdf.columns = [x.lower() for x in gdf.columns]\n",
    "    gdf['geom'] = gdf['geometry'].apply(lambda x: WKTElement(x.wkt, srid=4326))\n",
    "    gdf.drop(['geometry'], axis=1, inplace=True)\n",
    "    gdf.to_sql('2013', engine, schema= 'qualidade_pastagem', if_exists='append', index=False, \n",
    "                         dtype={'geom': Geometry('POLYGON', srid= 4326)})"
   ]
  }
 ],
 "metadata": {
  "kernelspec": {
   "display_name": "Python 3",
   "language": "python",
   "name": "python3"
  },
  "language_info": {
   "codemirror_mode": {
    "name": "ipython",
    "version": 3
   },
   "file_extension": ".py",
   "mimetype": "text/x-python",
   "name": "python",
   "nbconvert_exporter": "python",
   "pygments_lexer": "ipython3",
   "version": "3.11.4"
  },
  "orig_nbformat": 4
 },
 "nbformat": 4,
 "nbformat_minor": 2
}
