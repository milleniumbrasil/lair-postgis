{
 "cells": [
  {
   "cell_type": "markdown",
   "metadata": {},
   "source": [
    "#### Script para adequar a base de Terra Ind\u00edgena\n",
    "\n",
    "Projeto: Sistema de Apoio \u00e0 Caracteriza\u00e7\u00e3o de Im\u00f3veis Rurais  \n",
    "Embrapa/2023"
   ]
  },
  {
   "cell_type": "code",
   "execution_count": 1,
   "metadata": {},
   "outputs": [],
   "source": [
    "# M\u00f3dulos necess\u00e1rios\n",
    "import geopandas as gpd\n",
    "import pandas as pd\n",
    "import os\n",
    "import glob\n",
    "import numpy as np"
   ]
  },
  {
   "cell_type": "code",
   "execution_count": 2,
   "metadata": {},
   "outputs": [],
   "source": [
    "# \ud83d\udea8 Substitu\u00eddo automaticamente\n",
    "import os\n",
    "# Original: # \ud83d\udea8 Substitu\u00eddo automaticamente\n# import os\n# # Original: # Definir diret\u00f3rio principal\n# # dirpath = input('Diret\u00f3rio principal: ')\n# dirpath = os.getenv('INPUT_PATH', '/app/input')\n# \n",
    "dirpath = os.getenv('INPUT_PATH', '/app/input')\n"
   ]
  },
  {
   "cell_type": "code",
   "execution_count": 3,
   "metadata": {},
   "outputs": [],
   "source": [
    "# \ud83d\udea8 Substitu\u00eddo automaticamente\n",
    "import os\n",
    "# Original: # \ud83d\udea8 Substitu\u00eddo automaticamente\n# import os\n# # Original: # Definir caminho do shapefile original de Terra Ind\u00edgena (tis_poligonais.shp)\n# # ti = input('Caminho Terra Ind\u00edgena: ')\n# ti_path = os.path.join(os.getenv('INPUT_PATH', '/app/input'), 'Terras_Indigenas_Municipios')\n# \n",
    "ti_path = os.path.join(os.getenv('INPUT_PATH', '/app/input'), 'Terras_Indigenas_Municipios')\n"
   ]
  },
  {
   "cell_type": "code",
   "execution_count": 4,
   "metadata": {},
   "outputs": [],
   "source": [
    "# \ud83d\udea8 Substitu\u00eddo automaticamente\n",
    "import os\n",
    "# Original: # \ud83d\udea8 Substitu\u00eddo automaticamente\n# import os\n# # Original: # Definir caminho do shapefile de limite do Brasil\n# # br = input('Caminho do limite do Brasil: ')\n# br = os.path.join(os.getenv('INPUT_PATH', '/app/input'), 'br')\n# \n",
    "br = os.path.join(os.getenv('INPUT_PATH', '/app/input'), 'br')\n"
   ]
  },
  {
   "cell_type": "code",
   "execution_count": 5,
   "metadata": {},
   "outputs": [],
   "source": [
    "# \ud83d\udea8 Substitu\u00eddo automaticamente\n",
    "import os\n",
    "# Original: # \ud83d\udea8 Substitu\u00eddo automaticamente\n# import os\n# # Original: # Definir caminho do shapefile que ser\u00e1 usado como m\u00e1scara para recorte (Munic\u00edpios do BR - sem Buffer)\n# # limites = input('Caminho Munic\u00edpios: ')\n# mun_path = os.path.join(os.getenv('INPUT_PATH', '/app/input'), 'Municipios', 'BR_Municipios_2021.shp')\n# \n",
    "mun_path = os.path.join(os.getenv('INPUT_PATH', '/app/input'), 'Municipios', 'BR_Municipios_2021.shp')\n"
   ]
  },
  {
   "cell_type": "code",
   "execution_count": 7,
   "metadata": {},
   "outputs": [],
   "source": [
    "# Ler o arquivo original de Terra Ind\u00edgena (tis_poligonais.shp)\n",
    "base = gpd.read_file(ti)\n",
    "base = base.to_crs(epsg=4326)\n",
    "# Ler limite do Brasil\n",
    "brasil = gpd.read_file(br)\n",
    "brasil = brasil.to_crs(epsg=4326)\n",
    "# Lendo shapefile de Munic\u00edpios\n",
    "lim = gpd.read_file(limites)\n",
    "lim = lim.to_crs(epsg=4326)\n",
    "# Criar pasta para armazenar a base de Terra Ind\u00edgena recortada por estado\n",
    "uf_path = os.path.join(dirpath, 'Terras_Indigenas_Estados')\n",
    "os.makedirs(uf_path, exist_ok=True)\n",
    "# Criar pasta para armazenar a base de Terra Ind\u00edgena recortada por munic\u00edpios\n",
    "mun_path = os.path.join(dirpath, 'Terras_Indigenas_Municipios')\n",
    "os.makedirs(mun_path, exist_ok=True)\n",
    "# Adicionar coluna TERRIND_C\n",
    "base['CD_TERRIND'] = '1'\n",
    "# Listar as colunas do dataframe\n",
    "colunas = list(base.columns)\n",
    "colunas = [coluna for coluna in colunas if 'CD_TERRIND' not in coluna and 'terrai_cod' not in coluna and 'geometry' not in coluna]\n",
    "# Excluindo as colunas desnecess\u00e1rias\n",
    "base = base.drop(colunas, axis = 1)\n",
    "# Fazer a diferen\u00e7a entre a base de terras ind\u00edgenas e o limite do Brasil\n",
    "erase = brasil.overlay(base, how='difference', keep_geom_type=True)\n",
    "# Transformar para Single Part\n",
    "single = erase.explode(ignore_index=True)\n",
    "# Merge da terra ind\u00edgena com o erase\n",
    "merge = pd.concat([base, single]).pipe(gpd.GeoDataFrame)\n",
    "# Excluindo colunas desnecess\u00e1rias\n",
    "merge = merge.drop(['NM_PAIS', 'AREA_KM2'], axis = 1)\n",
    "# Preencher os valores nulos por 0\n",
    "merge.update(merge['CD_TERRIND'].fillna('0'))\n",
    "# Cortar por estado\n",
    "# Agrupar por estado\n",
    "agrupado = lim.groupby('SIGLA_UF')\n",
    "for key,values in agrupado:\n",
    "    output = uf_path + f'\\TI_2022_{key}.shp'\n",
    "    mun = lim[lim[\"SIGLA_UF\"] == f\"{key}\"]\n",
    "    geodf_clip = gpd.clip(merge, mun)\n",
    "    geodf_clip.to_file(driver = 'ESRI Shapefile', filename = (rf'{output}'))\n",
    "# Lista dos estados\n",
    "estados = list(np.unique(lim['SIGLA_UF']))\n",
    "# Cortar por munic\u00edpio\n",
    "for estado in estados:\n",
    "    shapes = glob.glob(uf_path + f'**/*{estado}.shp')\n",
    "    # Selecionar GeoDataFrame por estado\n",
    "    select = lim[lim['SIGLA_UF'] == f'{estado}']\n",
    "    # Agrupar por munic\u00edpio\n",
    "    agrupado = select.groupby('CD_MUN')\n",
    "    for shape in shapes:\n",
    "        for key,values in agrupado:\n",
    "            ti = gpd.read_file(shape)\n",
    "            ti = ti.to_crs(epsg=4326)\n",
    "            nome_arq = os.path.basename(shape)\n",
    "            nome_arq = nome_arq.replace('.shp', f'_{key}.shp')\n",
    "            output = mun_path + f\"\\{nome_arq}\"\n",
    "            mun = lim[lim[\"CD_MUN\"] == f\"{key}\"]\n",
    "            geodf_clip = gpd.clip(ti, mun)\n",
    "            geodf_clip.to_file(driver = 'ESRI Shapefile', filename = (rf'{output}'))"
   ]
  }
 ],
 "metadata": {
  "kernelspec": {
   "display_name": "geo",
   "language": "python",
   "name": "python3"
  },
  "language_info": {
   "codemirror_mode": {
    "name": "ipython",
    "version": 3
   },
   "file_extension": ".py",
   "mimetype": "text/x-python",
   "name": "python",
   "nbconvert_exporter": "python",
   "pygments_lexer": "ipython3",
   "version": "3.11.5"
  },
  "orig_nbformat": 4
 },
 "nbformat": 4,
 "nbformat_minor": 2
}