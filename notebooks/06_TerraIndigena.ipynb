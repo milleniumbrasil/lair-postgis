{
 "cells": [
  {
   "cell_type": "markdown",
   "metadata": {},
   "source": [
    "#### Script para adequar a base de Terra Ind\u00edgena\n",
    "\n",
    "Projeto: Sistema de Apoio \u00e0 Caracteriza\u00e7\u00e3o de Im\u00f3veis Rurais  \n",
    "Embrapa/2023"
   ]
  },
  {
   "cell_type": "code",
   "execution_count": 1,
   "metadata": {},
   "outputs": [],
   "source": [
    "# M\u00f3dulos necess\u00e1rios\n",
    "import geopandas as gpd\n",
    "import pandas as pd\n",
    "import os\n",
    "import glob\n",
    "import numpy as np"
   ]
  },
  {
   "cell_type": "code",
   "execution_count": 2,
   "metadata": {},
   "outputs": [],
   "source": [
    "# \ud83d\udea8 Substitu\u00eddo automaticamente\n",
    "import os\n",
    "# Original: # \ud83d\udea8 Substitu\u00eddo automaticamente\n# import os\n# # Original: # Definir diret\u00f3rio principal\n# # dirpath = input('Diret\u00f3rio principal: ')\n# dirpath = os.getenv('INPUT_PATH', '/app/input')\n# \n",
    "dirpath = os.getenv('INPUT_PATH', '/app/input')\n"
   ]
  },
  {
   "cell_type": "code",
   "execution_count": 3,
   "metadata": {},
   "outputs": [],
   "source": [
    "# \ud83d\udea8 Substitu\u00eddo automaticamente\n",
    "import os\n",
    "# Original: # \ud83d\udea8 Substitu\u00eddo automaticamente\n# import os\n# # Original: # Definir caminho do shapefile original de Terra Ind\u00edgena (tis_poligonais.shp)\n# # ti = input('Caminho Terra Ind\u00edgena: ')\n# ti_path = os.path.join(os.getenv('INPUT_PATH', '/app/input'), 'Terras_Indigenas_Municipios')\n# \n",
    "ti_path = os.path.join(os.getenv('INPUT_PATH', '/app/input'), 'Terras_Indigenas_Municipios')\n"
   ]
  },
  {
   "cell_type": "code",
   "execution_count": 4,
   "metadata": {},
   "outputs": [],
   "source": [
    "# \ud83d\udea8 Substitu\u00eddo automaticamente\n",
    "import os\n",
    "# Original: # \ud83d\udea8 Substitu\u00eddo automaticamente\n# import os\n# # Original: # Definir caminho do shapefile de limite do Brasil\n# # br = input('Caminho do limite do Brasil: ')\n# br = os.path.join(os.getenv('INPUT_PATH', '/app/input'), 'br')\n# \n",
    "br = os.path.join(os.getenv('INPUT_PATH', '/app/input'), 'br')\n"
   ]
  },
  {
   "cell_type": "code",
   "execution_count": 5,
   "metadata": {},
   "outputs": [],
   "source": [
    "# \ud83d\udea8 Substitu\u00eddo automaticamente\n",
    "import os\n",
    "# Original: # \ud83d\udea8 Substitu\u00eddo automaticamente\n# import os\n# # Original: # Definir caminho do shapefile que ser\u00e1 usado como m\u00e1scara para recorte (Munic\u00edpios do BR - sem Buffer)\n# # limites = input('Caminho Munic\u00edpios: ')\n# mun_path = os.path.join(os.getenv('INPUT_PATH', '/app/input'), 'Municipios', 'BR_Municipios_2021.shp')\n# \n",
    "mun_path = os.path.join(os.getenv('INPUT_PATH', '/app/input'), 'Municipios', 'BR_Municipios_2021.shp')\n"
   ]
  },
  {
   "cell_type": "code",
   "execution_count": 7,
   "metadata": {},
   "outputs": [],
   "source": [
    "# Ler o arquivo original de Terra Ind\u00edgena (tis_poligonais.shp)base = gpd.read_file(os.path.join(ti_path, os.getenv('TI_FILE', 'tis_poligonais.shp')))base = base.to_crs(epsg=4326)# Ler limite do Brasilbrasil = gpd.read_file(br)brasil = brasil.to_crs(epsg=4326)# Lendo shapefile de Munic\u00edpioslim = gpd.read_file(mun_path)lim = lim.to_crs(epsg=4326)# Criar pasta para armazenar a base de Terra Ind\u00edgena recortada por estadouf_path = os.path.join(dirpath, os.getenv('TI_ESTADOS_OUTPUT', 'Terras_Indigenas_Estados'))os.makedirs(uf_path, exist_ok=True)# Criar pasta para armazenar a base de Terra Ind\u00edgena recortada por munic\u00edpiosti_mun_path = os.path.join(dirpath, os.getenv('TI_MUNICIPIOS_OUTPUT', 'Terras_Indigenas_Municipios'))os.makedirs(ti_mun_path, exist_ok=True)os.makedirs(mun_path, exist_ok=True)# Adicionar coluna TERRIND_Cbase['CD_TERRIND'] = '1'# Listar as colunas do dataframecolunas = list(base.columns)colunas = [coluna for coluna in colunas if 'CD_TERRIND' not in coluna and 'terrai_cod' not in coluna and 'geometry' not in coluna]# Excluindo as colunas desnecess\u00e1riasbase = base.drop(colunas, axis = 1)# Fazer a diferen\u00e7a entre a base de terras ind\u00edgenas e o limite do Brasilerase = brasil.overlay(base, how='difference', keep_geom_type=True)# Transformar para Single Partsingle = erase.explode(ignore_index=True)# Merge da terra ind\u00edgena com o erasemerge = pd.concat([base, single]).pipe(gpd.GeoDataFrame)# Excluindo colunas desnecess\u00e1riasmerge = merge.drop(['NM_PAIS', 'AREA_KM2'], axis = 1)# Preencher os valores nulos por 0merge.update(merge['CD_TERRIND'].fillna('0'))# Cortar por estado# Agrupar por estadoagrupado = lim.groupby('SIGLA_UF')for key,values in agrupado:    output = uf_path + f'\\TI_2022_{key}.shp'    mun = lim[lim[\"SIGLA_UF\"] == f\"{key}\"]    geodf_clip = gpd.clip(merge, mun)    geodf_clip.to_file(driver = 'ESRI Shapefile', filename = (rf'{output}'))# Lista dos estadosestados = list(np.unique(lim['SIGLA_UF']))# Cortar por munic\u00edpiofor estado in estados:    shapes = glob.glob(uf_path + f'**/*{estado}.shp')    # Selecionar GeoDataFrame por estado    select = lim[lim['SIGLA_UF'] == f'{estado}']    # Agrupar por munic\u00edpio    agrupado = select.groupby('CD_MUN')    for shape in shapes:        for key,values in agrupado:            ti = gpd.read_file(shape)            ti = ti.to_crs(epsg=4326)            nome_arq = os.path.basename(shape)            nome_arq = nome_arq.replace('.shp', f'_{key}.shp')output = ti_mun_path + f\"\\{nome_arq}\"            mun = lim[lim[\"CD_MUN\"] == f\"{key}\"]            geodf_clip = gpd.clip(ti, mun)            geodf_clip.to_file(driver = 'ESRI Shapefile', filename = (rf'{output}'))"
   ]
  }
 ],
 "metadata": {
  "kernelspec": {
   "display_name": "geo",
   "language": "python",
   "name": "python3"
  },
  "language_info": {
   "codemirror_mode": {
    "name": "ipython",
    "version": 3
   },
   "file_extension": ".py",
   "mimetype": "text/x-python",
   "name": "python",
   "nbconvert_exporter": "python",
   "pygments_lexer": "ipython3",
   "version": "3.11.5"
  },
  "orig_nbformat": 4
 },
 "nbformat": 4,
 "nbformat_minor": 2
}