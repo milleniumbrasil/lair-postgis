{
 "cells": [
  {
   "cell_type": "markdown",
   "metadata": {},
   "source": [
    "#### Script para adequar as colunas de Usos ABC, Declividade e Aptid\u00e3o do Solo para o Banco de Dados\n",
    "\n",
    "Projeto: Sistema de Apoio \u00e0 Caracteriza\u00e7\u00e3o de Im\u00f3veis Rurais  \n",
    "Embrapa/2023"
   ]
  },
  {
   "cell_type": "code",
   "execution_count": 15,
   "metadata": {},
   "outputs": [],
   "source": [
    "# M\u00f3dulos necess\u00e1rios\n",
    "import os\n",
    "import glob\n",
    "import geopandas as gpd\n",
    "import shutil"
   ]
  },
  {
   "cell_type": "code",
   "execution_count": 2,
   "metadata": {},
   "outputs": [],
   "source": [
    "# \ud83d\udea8 Substitu\u00eddo automaticamente\n",
    "import os\n",
    "# Original: # \ud83d\udea8 Substitu\u00eddo automaticamente\n# import os\n# # Original: # Definir caminho da pasta: Usos_ABC_Municipios_CAR\n# # uso_path = input('Diret\u00f3rio dos Usos ABC por munic\u00edpio com CAR: ')\n# car_path = os.path.join(os.getenv('INPUT_PATH', '/app/input'), 'CAR')\n# \n",
    "car_path = os.path.join(os.getenv('INPUT_PATH', '/app/input'), 'CAR')\n"
   ]
  },
  {
   "cell_type": "code",
   "execution_count": 3,
   "metadata": {},
   "outputs": [],
   "source": [
    "# \ud83d\udea8 Substitu\u00eddo automaticamente\n",
    "import os\n",
    "# Original: # \ud83d\udea8 Substitu\u00eddo automaticamente\n# import os\n# # Original: # Definir caminho da pasta: Decliv_UF_Municipios_CAR\n# # decl_path = input('Diret\u00f3rio da Declividade por munic\u00edpio com CAR: ')\n# car_path = os.path.join(os.getenv('INPUT_PATH', '/app/input'), 'CAR')\n# \n",
    "car_path = os.path.join(os.getenv('INPUT_PATH', '/app/input'), 'CAR')\n"
   ]
  },
  {
   "cell_type": "code",
   "execution_count": 4,
   "metadata": {},
   "outputs": [],
   "source": [
    "# \ud83d\udea8 Substitu\u00eddo automaticamente\n",
    "import os\n",
    "# Original: # \ud83d\udea8 Substitu\u00eddo automaticamente\n# import os\n# # Original: # Definir caminho da pasta: Aptd_Edafo_Municipios_CAR\n# # edafo_path = input('Diret\u00f3rio da Aptid\u00e3o do Solo por munic\u00edpio com CAR: ')\n# car_path = os.path.join(os.getenv('INPUT_PATH', '/app/input'), 'CAR')\n# \n",
    "car_path = os.path.join(os.getenv('INPUT_PATH', '/app/input'), 'CAR')\n"
   ]
  },
  {
   "cell_type": "code",
   "execution_count": 16,
   "metadata": {},
   "outputs": [],
   "source": [
    "# Anos de Usos ABC:\n",
    "anos = ['1985', '2008', '2009', '2010', '2011', '2012', '2013', '2014', '2015', '2016', '2017', '2018', '2019', '2020', '2021']"
   ]
  },
  {
   "cell_type": "code",
   "execution_count": 17,
   "metadata": {},
   "outputs": [],
   "source": [
    "# Adequando o arquivo para o Banco de Dados - Usos ABC\n",
    "base = glob.glob(uso_path + '**/*/*CAR.shp')\n",
    "for arquivo in base:\n",
    "    arq = gpd.read_file(arquivo)\n",
    "    nome_arq = os.path.basename(arquivo)\n",
    "    arq.columns = arq.columns.str.lower()\n",
    "    # Adequando o encoding para utf-8\n",
    "    # Definir coluna a ser ajustada\n",
    "    coluna = 'nom_munici'\n",
    "    # Extraindo valores \u00fanicos da coluna\n",
    "    valoresUnicos = arq[coluna].unique()\n",
    "    for valor in valoresUnicos:\n",
    "        valor_encode = valor.encode('iso-8859-1')\n",
    "        valor_decode = str(valor_encode.decode('utf-8'))\n",
    "        arq.loc[arq[coluna]==f'{valor}',coluna] = f'{valor_decode}'\n",
    "        arq.to_file(driver = 'ESRI Shapefile', filename = (rf'{uso_path}\\{nome_arq}'))\n",
    "# Criar pasta para cada ano de Uso ABC\n",
    "for ano in anos:\n",
    "    anos_path = os.path.join(uso_path, f'{ano}')\n",
    "    os.makedirs(anos_path, exist_ok=True)\n",
    "# Movendo os arquivos para as pastas dos respectivos anos\n",
    "for ano in anos:\n",
    "    anos_path = os.path.join(uso_path, f'{ano}')\n",
    "    os.makedirs(anos_path, exist_ok=True)\n",
    "lista_arquivos = os.listdir(uso_path)\n",
    "for arquivo in lista_arquivos:\n",
    "    if 'Usos_ABC' in arquivo:\n",
    "        caminho_arquivo = os.path.join(uso_path, arquivo)\n",
    "        ano = arquivo[9:-16]\n",
    "        local_final = os.path.join(uso_path, fr'{ano}\\{arquivo}')\n",
    "        shutil.move(caminho_arquivo, local_final)"
   ]
  },
  {
   "cell_type": "code",
   "execution_count": 19,
   "metadata": {},
   "outputs": [],
   "source": [
    "# Adequando o arquivo para o Banco de Dados - Declividade\n",
    "base = glob.glob(decl_path + '**/*CAR.shp')\n",
    "for arquivo in base:\n",
    "    arq = gpd.read_file(arquivo)\n",
    "    nome_arq = os.path.basename(arquivo)\n",
    "    arq.columns = arq.columns.str.lower()\n",
    "    # Adequando o encoding para utf-8\n",
    "    # Definir coluna a ser ajustada\n",
    "    coluna = 'nom_munici'\n",
    "    # Extraindo valores \u00fanicos da coluna\n",
    "    valoresUnicos = arq[coluna].unique()\n",
    "    for valor in valoresUnicos:\n",
    "        valor_encode = valor.encode('iso-8859-1')\n",
    "        valor_decode = str(valor_encode.decode('utf-8'))\n",
    "        arq.loc[arq[coluna]==f'{valor}',coluna] = f'{valor_decode}'\n",
    "        arq.to_file(driver = 'ESRI Shapefile', filename = (rf'{decl_path}\\{nome_arq}'))"
   ]
  },
  {
   "cell_type": "code",
   "execution_count": 20,
   "metadata": {},
   "outputs": [],
   "source": [
    "# Adequando o arquivo para o Banco de Dados - Aptid\u00e3o Solo\n",
    "base = glob.glob(edafo_path + '**/*CAR.shp')\n",
    "for arquivo in base:\n",
    "    arq = gpd.read_file(arquivo)\n",
    "    nome_arq = os.path.basename(arquivo)\n",
    "    arq.columns = arq.columns.str.lower()\n",
    "    # Adequando o encoding para utf-8\n",
    "    # Definir coluna a ser ajustada\n",
    "    coluna = 'nom_munici'\n",
    "    # Extraindo valores \u00fanicos da coluna\n",
    "    valoresUnicos = arq[coluna].unique()\n",
    "    for valor in valoresUnicos:\n",
    "        valor_encode = valor.encode('iso-8859-1')\n",
    "        valor_decode = str(valor_encode.decode('utf-8'))\n",
    "        arq.loc[arq[coluna]==f'{valor}',coluna] = f'{valor_decode}'\n",
    "        arq.to_file(driver = 'ESRI Shapefile', filename = (rf'{edafo_path}\\{nome_arq}'))"
   ]
  }
 ],
 "metadata": {
  "kernelspec": {
   "display_name": "geo",
   "language": "python",
   "name": "python3"
  },
  "language_info": {
   "codemirror_mode": {
    "name": "ipython",
    "version": 3
   },
   "file_extension": ".py",
   "mimetype": "text/x-python",
   "name": "python",
   "nbconvert_exporter": "python",
   "pygments_lexer": "ipython3",
   "version": "3.11.5"
  },
  "orig_nbformat": 4
 },
 "nbformat": 4,
 "nbformat_minor": 2
}