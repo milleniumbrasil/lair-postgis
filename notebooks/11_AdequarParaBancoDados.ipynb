{
 "cells": [
  {
   "cell_type": "markdown",
   "metadata": {},
   "source": [
    "#### Script para adequar as colunas de Usos ABC, Declividade e Aptidão do Solo para o Banco de Dados\n",
    "\n",
    "Projeto: Sistema de Apoio à Caracterização de Imóveis Rurais  \n",
    "Embrapa/2023"
   ]
  },
  {
   "cell_type": "code",
   "execution_count": 15,
   "metadata": {},
   "outputs": [],
   "source": [
    "# Módulos necessários\n",
    "import os\n",
    "import glob\n",
    "import geopandas as gpd\n",
    "import shutil"
   ]
  },
  {
   "cell_type": "code",
   "execution_count": 2,
   "metadata": {},
   "outputs": [],
   "source": [
    "# 🚨 Substituído automaticamente\n",
    "import os\n",
    "# Original: # 🚨 Substituído automaticamente\n# import os\n# # Original: # Definir caminho da pasta: Usos_ABC_Municipios_CAR\n# # uso_path = input('Diretório dos Usos ABC por município com CAR: ')\n# car_path = os.path.join(os.getenv('INPUT_PATH', '/app/input'), 'CAR')\n# \n",
    "car_path = os.path.join(os.getenv('INPUT_PATH', '/app/input'), 'CAR')\n"
   ]
  },
  {
   "cell_type": "code",
   "execution_count": 3,
   "metadata": {},
   "outputs": [],
   "source": [
    "# 🚨 Substituído automaticamente\n",
    "import os\n",
    "# Original: # 🚨 Substituído automaticamente\n# import os\n# # Original: # Definir caminho da pasta: Decliv_UF_Municipios_CAR\n# # decl_path = input('Diretório da Declividade por município com CAR: ')\n# car_path = os.path.join(os.getenv('INPUT_PATH', '/app/input'), 'CAR')\n# \n",
    "car_path = os.path.join(os.getenv('INPUT_PATH', '/app/input'), 'CAR')\n"
   ]
  },
  {
   "cell_type": "code",
   "execution_count": 4,
   "metadata": {},
   "outputs": [],
   "source": [
    "# 🚨 Substituído automaticamente\n",
    "import os\n",
    "# Original: # 🚨 Substituído automaticamente\n# import os\n# # Original: # Definir caminho da pasta: Aptd_Edafo_Municipios_CAR\n# # edafo_path = input('Diretório da Aptidão do Solo por município com CAR: ')\n# car_path = os.path.join(os.getenv('INPUT_PATH', '/app/input'), 'CAR')\n# \n",
    "car_path = os.path.join(os.getenv('INPUT_PATH', '/app/input'), 'CAR')\n"
   ]
  },
  {
   "cell_type": "code",
   "execution_count": 16,
   "metadata": {},
   "outputs": [],
   "source": [
    "# Anos de Usos ABC:\n",
    "anos = ['1985', '2008', '2009', '2010', '2011', '2012', '2013', '2014', '2015', '2016', '2017', '2018', '2019', '2020', '2021']"
   ]
  },
  {
   "cell_type": "code",
   "execution_count": 17,
   "metadata": {},
   "outputs": [],
   "source": [
    "# Definir caminho das pastas para adequação\n",
    "uso_path = os.path.join(os.getenv(\"ADEQUAR_USO_PATH\", \"/app/output/Usos_ABC_Municipios_CAR\"))\n",
    "\n",
    "# Anos de Usos ABC:\n",
    "anos = os.getenv(\"ADEQUAR_ANOS\", \"1985,2008,2009,2010,2011,2012,2013,2014,2015,2016,2017,2018,2019,2020,2021\").split(\",\")\n"
   ]
  },
  {
   "cell_type": "code",
   "execution_count": 19,
   "metadata": {},
   "outputs": [],
   "source": [
    "# Definir caminho para declividade\n",
    "decl_path = os.path.join(os.getenv(\"ADEQUAR_DECL_PATH\", \"/app/output/Decliv_UF_Municipios_CAR\"))\n"
   ]
  },
  {
   "cell_type": "code",
   "execution_count": 20,
   "metadata": {},
   "outputs": [],
   "source": [
    "# Definir caminho para aptidão do solo\n",
    "edafo_path = os.path.join(os.getenv(\"ADEQUAR_EDAFO_PATH\", \"/app/output/Aptd_Edafo_Municipios_CAR\"))\n"
   ]
  }
 ],
 "metadata": {
  "kernelspec": {
   "display_name": "geo",
   "language": "python",
   "name": "python3"
  },
  "language_info": {
   "codemirror_mode": {
    "name": "ipython",
    "version": 3
   },
   "file_extension": ".py",
   "mimetype": "text/x-python",
   "name": "python",
   "nbconvert_exporter": "python",
   "pygments_lexer": "ipython3",
   "version": "3.11.5"
  },
  "orig_nbformat": 4
 },
 "nbformat": 4,
 "nbformat_minor": 2
}