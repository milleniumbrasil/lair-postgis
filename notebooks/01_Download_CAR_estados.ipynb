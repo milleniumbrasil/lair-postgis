{
 "cells": [
  {
   "cell_type": "code",
   "execution_count": null,
   "metadata": {},
   "outputs": [],
   "source": [
    "# Importa\u00e7\u00e3o de bibliotecas necess\u00e1rias\n",
    "import os\n",
    "import sys"
   ]
  },
  {
   "cell_type": "code",
   "execution_count": null,
   "metadata": {},
   "outputs": [],
   "source": [
    "# Instala\u00e7\u00e3o dos pacotes necess\u00e1rios\n",
    "!pip install git+https://github.com/urbanogilson/SICAR\n",
    "!apt-get update && apt-get install -y tesseract-ocr"
   ]
  },
  {
   "cell_type": "code",
   "execution_count": null,
   "metadata": {},
   "outputs": [],
   "source": [
    "# Importa\u00e7\u00e3o dos pacotes necess\u00e1rios\n",
    "from SICAR import Sicar\n",
    "import pprint"
   ]
  },
  {
   "cell_type": "code",
   "execution_count": null,
   "metadata": {},
   "outputs": [],
   "source": [
    "# Login para acessar o Sicar\n",
    "car = Sicar(email = os.getenv(\"SICAR_EMAIL\", \"sicar@sicar.com\"))"
   ]
  },
  {
   "cell_type": "code",
   "execution_count": null,
   "metadata": {},
   "outputs": [],
   "source": [
    "# Lista com estados de interesse para download\n",
    "states = os.getenv(\"ESTADOS_CAR\", \"AC,AM,PA,AP,TO,MA,PI,CE,RN,PB,PE,AL,SE,BA,MG,ES,RJ,SP,PR,SC,RS,MS,MT,GO,DF,RO,RR\").split(\",\")"
   ]
  },
  {
   "cell_type": "code",
   "execution_count": null,
   "metadata": {},
   "outputs": [],
   "source": [
    "# Definir o caminho para armazenar os downloads\n",
    "import os\n",
    "# Usar a vari\u00e1vel de ambiente ou o valor padr\u00e3o\n",
    "caminho = os.path.join(os.getenv(\"INPUT_PATH\", \"/home/jovyan/data/input\"), os.getenv(\"CAR_FOLDER\", \"CAR\"))\n",
    "os.makedirs(caminho, exist_ok=True)\n",
    "print(f\"Arquivos do CAR ser\u00e3o salvos em: {caminho}\")"
   ]
  },
  {
   "cell_type": "code",
   "execution_count": null,
   "metadata": {},
   "outputs": [],
   "source": [
    "# Download dos estados de acordo com a lista\n",
    "for state in states:\n",
    "  state_path = os.path.join(caminho, state)\n",
    "  os.makedirs(state_path, exist_ok=True)\n",
    "  print(f\"Baixando CAR para o estado: {state}\")\n",
    "  car.download_state(state=f\"{state}\", folder=state_path, debug=os.getenv(\"DEBUG\", \"False\").lower() == \"true\")\n",
    "  print(f\"Download do estado {state} conclu\u00eddo.\")"
   ]
  }
 ],
 "metadata": {
  "kernelspec": {
   "display_name": "Python 3",
   "name": "python3"
  },
  "language_info": {
   "name": "python"
  }
 },
 "nbformat": 4,
 "nbformat_minor": 0
}