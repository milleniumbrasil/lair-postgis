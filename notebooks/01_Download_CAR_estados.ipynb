{
 "cells": [
  {
   "cell_type": "code",
   "execution_count": null,
   "metadata": {
    "id": "by49aF9TYuy7"
   },
   "outputs": [],
   "source": [
    "# Conectar ao Google Drive\n",
    "from google.colab import drive\n",
    "drive.mount('/content/drive')"
   ]
  },
  {
   "cell_type": "code",
   "execution_count": null,
   "metadata": {
    "id": "KqcmnGEuY8Gf"
   },
   "outputs": [],
   "source": [
    "# Instala\u00e7\u00e3o dos pacotes necess\u00e1rios\n",
    "!pip install git+https://github.com/urbanogilson/SICAR\n",
    "!sudo apt install tesseract-ocr -y"
   ]
  },
  {
   "cell_type": "code",
   "execution_count": null,
   "metadata": {
    "id": "Bc9ozJxdZJJ8"
   },
   "outputs": [],
   "source": [
    "# Importa\u00e7\u00e3o dos pacotes necess\u00e1rios\n",
    "from SICAR import Sicar\n",
    "import pprint"
   ]
  },
  {
   "cell_type": "code",
   "execution_count": null,
   "metadata": {
    "id": "ilb4r-ZhZVTL"
   },
   "outputs": [],
   "source": [
    "# Login para acessar o Sicar\n",
    "car = Sicar(email = \"sicar@sicar.com\")"
   ]
  },
  {
   "cell_type": "code",
   "execution_count": null,
   "metadata": {
    "id": "X7X79Db7ZbDq"
   },
   "outputs": [],
   "source": [
    "# Lista com estados de interesse para download\n",
    "states = ['AC','AM','PA','AP','TO','MA','PI','CE','RN','PB','PE','AL','SE','BA','MG','ES','RJ','SP','PR','SC','RS','MS','MT','GO','DF','RO','RR']"
   ]
  },
  {
   "cell_type": "code",
   "source": [
    "# \ud83d\udea8 Substitu\u00eddo automaticamente\n",
    "import os\n",
    "# Original: # \ud83d\udea8 Substitu\u00eddo automaticamente\n# import os\n# # Original: # Caminho do drive onde ser\u00e1 armazenado os downloads\n# # caminho = input('Caminho do drive: ')\n# caminho = os.path.join(os.getenv('INPUT_PATH', '/app/input'), 'caminho')\n# \n",
    "caminho = os.path.join(os.getenv('INPUT_PATH', '/app/input'), 'caminho')\n"
   ],
   "metadata": {
    "id": "hjXF805hGBa8"
   },
   "execution_count": null,
   "outputs": []
  },
  {
   "cell_type": "code",
   "execution_count": null,
   "metadata": {
    "id": "b_1xzIlkZ7hx"
   },
   "outputs": [],
   "source": [
    "# Download dos estados de acordo com a lista\n",
    "for state in states:\n",
    "  car.download_state(state=f'{state}', folder=f'{caminho}/{state}', debug=False)"
   ]
  }
 ],
 "metadata": {
  "colab": {
   "provenance": []
  },
  "kernelspec": {
   "display_name": "Python 3",
   "name": "python3"
  },
  "language_info": {
   "name": "python"
  }
 },
 "nbformat": 4,
 "nbformat_minor": 0
}