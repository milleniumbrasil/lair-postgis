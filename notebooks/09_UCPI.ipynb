{
 "cells": [
  {
   "cell_type": "markdown",
   "metadata": {},
   "source": [
    "#### Script para recortar a base de Unidades de Conserva\u00e7\u00e3o de Prote\u00e7\u00e3o Integral por Estado e por Munic\u00edpios\n",
    "\n",
    "Projeto: Sistema de Apoio \u00e0 Caracteriza\u00e7\u00e3o de Im\u00f3veis Rurais  \n",
    "Embrapa/2023"
   ]
  },
  {
   "cell_type": "code",
   "execution_count": 2,
   "metadata": {},
   "outputs": [],
   "source": [
    "# M\u00f3dulos necess\u00e1rios\n",
    "import geopandas as gpd\n",
    "import os\n",
    "import glob\n",
    "import numpy as np"
   ]
  },
  {
   "cell_type": "code",
   "execution_count": 3,
   "metadata": {},
   "outputs": [],
   "source": [
    "# \ud83d\udea8 Substitu\u00eddo automaticamente\n",
    "import os\n",
    "# Original: # \ud83d\udea8 Substitu\u00eddo automaticamente\n# import os\n# # Original: # Definir diret\u00f3rio principal\n# # dirpath = input('Diret\u00f3rio principal: ')\n# dirpath = os.getenv('INPUT_PATH', '/app/input')\n# \n",
    "dirpath = os.getenv('INPUT_PATH', '/app/input')\n"
   ]
  },
  {
   "cell_type": "code",
   "execution_count": 4,
   "metadata": {},
   "outputs": [],
   "source": [
    "# Definir caminho do shapefile arquivo original de Unidades de Conserva\u00e7\u00e3o\n",
    "unidades_path = os.path.join(os.getenv('INPUT_PATH', '/app/input'), os.getenv('UCPI_PATH', 'unidades'))\n",
    "unidades_file = os.path.join(unidades_path, os.getenv('UCPI_FILE', 'unidades_conservacao.shp'))\n"
   ]
  },
  {
   "cell_type": "code",
   "execution_count": 5,
   "metadata": {},
   "outputs": [],
   "source": [
    "# \ud83d\udea8 Substitu\u00eddo automaticamente\n",
    "import os\n",
    "# Original: # \ud83d\udea8 Substitu\u00eddo automaticamente\n# import os\n# # Original: # Definir caminho do shapefile que ser\u00e1 usado como m\u00e1scara para recorte (Munic\u00edpios do BR - sem Buffer)\n# # limites = input('Caminho Munic\u00edpios: ')\n# mun_path = os.path.join(os.getenv('INPUT_PATH', '/app/input'), 'Municipios', 'BR_Municipios_2021.shp')\n# \n",
    "mun_path = os.path.join(os.getenv('INPUT_PATH', '/app/input'), 'Municipios', 'BR_Municipios_2021.shp')\n"
   ]
  },
  {
   "cell_type": "code",
   "execution_count": 24,
   "metadata": {},
   "outputs": [
    {
     "name": "stderr",
     "output_type": "stream",
     "text": [
      "c:\\Users\\youx\\miniconda3\\envs\\geo\\Lib\\site-packages\\geopandas\\geodataframe.py:1538: SettingWithCopyWarning: \n",
      "A value is trying to be set on a copy of a slice from a DataFrame.\n",
      "Try using .loc[row_indexer,col_indexer] = value instead\n",
      "\n",
      "See the caveats in the documentation: https://pandas.pydata.org/pandas-docs/stable/user_guide/indexing.html#returning-a-view-versus-a-copy\n",
      "  super().__setitem__(key, value)\n"
     ]
    }
   ],
   "source": [
    "# Ler o shapefile de Unidades de Conserva\u00e7\u00e3o",
    "base = gpd.read_file(unidades_file)",
    "base = base.to_crs(epsg=4326)",
    "# Lendo shapefile de Munic\u00edpios",
    "lim = gpd.read_file(mun_path)",
    "lim = lim.to_crs(epsg=4326)",
    "# Criar pasta para armazenar a base de UCPI recortada por estado",
    "uf_path = os.path.join(dirpath, os.getenv('UCPI_ESTADOS_OUTPUT', 'UCPI_Estados'))",
    "os.makedirs(uf_path, exist_ok=True)",
    "# Criar pasta para armazenar a base de UCPI recortada por munic\u00edpios",
    "ucpi_mun_path = os.path.join(dirpath, os.getenv('UCPI_MUNICIPIOS_OUTPUT', 'UCPI_Municipios'))",
    "os.makedirs(ucpi_mun_path, exist_ok=True)",
    "# Selecionar apenas as fei\u00e7\u00f5es de UCPI e sem Unidades de Conserva\u00e7\u00e3o",
    "ucpi = base[['UCMI_C', 'UCEI_C', 'UCFI_C', 'geometry']]",
    "# Fun\u00e7\u00e3o para atribuir valor 0 ou 1 com base nas condi\u00e7\u00f5es",
    "def assign_CD_UCPI(row):",
    "    if row['UCMI_C'] == 0 and row['UCEI_C'] == 0 and row['UCFI_C'] == 0:",
    "        return 0",
    "    else:",
    "        return 1",
    "# Aplicar a fun\u00e7\u00e3o a cada linha do DataFrame",
    "ucpi['CD_UCPI'] = ucpi.apply(assign_CD_UCPI, axis=1)",
    "# Excluir colunas desnecess\u00e1rias",
    "ucpi = ucpi.drop(['UCMI_C', 'UCEI_C', 'UCFI_C'], axis = 1)",
    "# Cortar por estado",
    "# Agrupar por estado",
    "agrupado = lim.groupby('SIGLA_UF')",
    "for key,values in agrupado:",
    "    output = uf_path + fr'\\UCPI_{key}.shp'",
    "    uf = lim[lim[\"SIGLA_UF\"] == f\"{key}\"]",
    "    geodf_clip = gpd.clip(ucpi, uf, keep_geom_type=True)",
    "    geodf_clip.to_file(driver = 'ESRI Shapefile', filename = (rf'{output}'))",
    "# Lista dos estados",
    "estados = list(np.unique(lim['SIGLA_UF']))",
    "# Cortar por munic\u00edpio",
    "for estado in estados:",
    "    shapes = glob.glob(uf_path + f'**/*{estado}.shp')",
    "    # Selecionar GeoDataFrame por estado",
    "    select = lim[lim['SIGLA_UF'] == f'{estado}']",
    "    # Agrupar por munic\u00edpio",
    "    agrupado = select.groupby('CD_MUN')",
    "    for shape in shapes:",
    "        for key,values in agrupado:",
    "            ucpi = gpd.read_file(shape)",
    "            ucpi = ucpi.to_crs(epsg=4326)",
    "            nome_arq = os.path.basename(shape)",
    "            nome_arq = nome_arq.replace('.shp', fr'_{key}.shp')",
    "            output = ucpi_mun_path + f\"\\{nome_arq}\"",
    "            mun = lim[lim[\"CD_MUN\"] == f\"{key}\"]",
    "            geodf_clip = gpd.clip(ucpi, mun, keep_geom_type=True)",
    "            geodf_clip.to_file(driver = 'ESRI Shapefile', filename = (rf'{output}'))"
   ]
  }
 ],
 "metadata": {
  "kernelspec": {
   "display_name": "geo",
   "language": "python",
   "name": "python3"
  },
  "language_info": {
   "codemirror_mode": {
    "name": "ipython",
    "version": 3
   },
   "file_extension": ".py",
   "mimetype": "text/x-python",
   "name": "python",
   "nbconvert_exporter": "python",
   "pygments_lexer": "ipython3",
   "version": "3.11.5"
  },
  "orig_nbformat": 4
 },
 "nbformat": 4,
 "nbformat_minor": 2
}