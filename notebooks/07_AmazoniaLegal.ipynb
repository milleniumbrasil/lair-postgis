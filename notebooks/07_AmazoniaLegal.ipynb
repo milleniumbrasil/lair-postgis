{
 "cells": [
  {
   "cell_type": "markdown",
   "metadata": {},
   "source": [
    "#### Script para recortar a base de Amaz\u00f4nia Legal por Estado e por Munic\u00edpios\n",
    "\n",
    "Projeto: Sistema de Apoio \u00e0 Caracteriza\u00e7\u00e3o de Im\u00f3veis Rurais  \n",
    "Embrapa/2023"
   ]
  },
  {
   "cell_type": "code",
   "execution_count": 1,
   "metadata": {},
   "outputs": [],
   "source": [
    "# M\u00f3dulos necess\u00e1rios\n",
    "import geopandas as gpd\n",
    "import pandas as pd\n",
    "import os\n",
    "import glob\n",
    "import numpy as np"
   ]
  },
  {
   "cell_type": "code",
   "execution_count": 2,
   "metadata": {},
   "outputs": [],
   "source": [
    "# \ud83d\udea8 Substitu\u00eddo automaticamente\n",
    "import os\n",
    "# Original: # \ud83d\udea8 Substitu\u00eddo automaticamente\n# import os\n# # Original: # Definir diret\u00f3rio principal\n# # dirpath = input('Diret\u00f3rio principal: ')\n# dirpath = os.getenv('INPUT_PATH', '/app/input')\n# \n",
    "dirpath = os.getenv('INPUT_PATH', '/app/input')\n"
   ]
  },
  {
   "cell_type": "code",
   "execution_count": 3,
   "metadata": {},
   "outputs": [],
   "source": [
    "# \ud83d\udea8 Substitu\u00eddo automaticamente\n",
    "import os\n",
    "# Original: # \ud83d\udea8 Substitu\u00eddo automaticamente\n# import os\n# # Original: # Definir caminho do shapefile arquivo original de Amaz\u00f4nia Legal\n# # amz = input('Caminho Amaz\u00f4nia Legal: ')\n# amz_path = os.path.join(os.getenv('INPUT_PATH', '/app/input'), 'Amz_Legal_Municipios')\n# \n",
    "amz_path = os.path.join(os.getenv('INPUT_PATH', '/app/input'), 'Amz_Legal_Municipios')\n"
   ]
  },
  {
   "cell_type": "code",
   "execution_count": 4,
   "metadata": {},
   "outputs": [],
   "source": [
    "# \ud83d\udea8 Substitu\u00eddo automaticamente\n",
    "import os\n",
    "# Original: # \ud83d\udea8 Substitu\u00eddo automaticamente\n# import os\n# # Original: # Definir caminho do shapefile que ser\u00e1 usado como m\u00e1scara para recorte (Munic\u00edpios do BR - sem Buffer)\n# # limites = input('Caminho Munic\u00edpios: ')\n# mun_path = os.path.join(os.getenv('INPUT_PATH', '/app/input'), 'Municipios', 'BR_Municipios_2021.shp')\n# \n",
    "mun_path = os.path.join(os.getenv('INPUT_PATH', '/app/input'), 'Municipios', 'BR_Municipios_2021.shp')\n"
   ]
  },
  {
   "cell_type": "code",
   "execution_count": 6,
   "metadata": {},
   "outputs": [],
   "source": [
    "# Ler o arquivo original de Amaz\u00f4nia Legal",
    "base = gpd.read_file(os.path.join(amz_path, os.getenv('AMZ_FILE', 'amazonia_legal.shp')))",
    "base = base.to_crs(epsg=4326)",
    "# Lendo shapefile de Munic\u00edpios",
    "lim = gpd.read_file(mun_path)",
    "lim = lim.to_crs(epsg=4326)",
    "# Criar pasta para armazenar a base de Amaz\u00f4nia Legal recortada por estado",
    "uf_path = os.path.join(dirpath, os.getenv('AMZ_ESTADOS_OUTPUT', 'Amz_Legal_Estados'))",
    "os.makedirs(uf_path, exist_ok=True)",
    "# Criar pasta para armazenar a base de Amaz\u00f4nia Legal recortada por munic\u00edpios",
    "amz_mun_path = os.path.join(dirpath, os.getenv('AMZ_MUNICIPIOS_OUTPUT', 'Amz_Legal_Municipios'))",
    "os.makedirs(amz_mun_path, exist_ok=True)",
    "# Cortar por estado",
    "# Agrupar por estado",
    "agrupado = lim.groupby('SIGLA_UF')",
    "for key,values in agrupado:",
    "    output = uf_path + f'\\Amz_Legal_2021_{key}.shp'",
    "    uf = lim[lim[\"SIGLA_UF\"] == f\"{key}\"]",
    "    geodf_clip = gpd.clip(base, uf, keep_geom_type=True)",
    "    geodf_clip.to_file(driver = 'ESRI Shapefile', filename = (rf'{output}'))",
    "# Lista dos estados",
    "estados = list(np.unique(lim['SIGLA_UF']))",
    "# Cortar por munic\u00edpio",
    "for estado in estados:",
    "    shapes = glob.glob(uf_path + f'**/*{estado}.shp')",
    "    # Selecionar GeoDataFrame por estado",
    "    select = lim[lim['SIGLA_UF'] == f'{estado}']",
    "    # Agrupar por munic\u00edpio",
    "    agrupado = select.groupby('CD_MUN')",
    "    for shape in shapes:",
    "        for key,values in agrupado:",
    "            amz = gpd.read_file(shape)",
    "            amz = amz.to_crs(epsg=4326)",
    "            nome_arq = os.path.basename(shape)",
    "            nome_arq = nome_arq.replace('.shp', f'_{key}.shp')",
    "            output = amz_mun_path + f\"\\{nome_arq}\"",
    "            mun = lim[lim[\"CD_MUN\"] == f\"{key}\"]",
    "            geodf_clip = gpd.clip(amz, mun, keep_geom_type=True)",
    "            geodf_clip.to_file(driver = 'ESRI Shapefile', filename = (rf'{output}'))"
   ]
  }
 ],
 "metadata": {
  "kernelspec": {
   "display_name": "geo",
   "language": "python",
   "name": "python3"
  },
  "language_info": {
   "codemirror_mode": {
    "name": "ipython",
    "version": 3
   },
   "file_extension": ".py",
   "mimetype": "text/x-python",
   "name": "python",
   "nbconvert_exporter": "python",
   "pygments_lexer": "ipython3",
   "version": "3.11.5"
  },
  "orig_nbformat": 4
 },
 "nbformat": 4,
 "nbformat_minor": 2
}