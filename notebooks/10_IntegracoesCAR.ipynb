{
 "cells": [
  {
   "cell_type": "markdown",
   "metadata": {},
   "source": [
    "#### Script para integra\u00e7\u00e3o dos limites de im\u00f3veis rurais do CAR com as bases: Usos ABC, Declividade, Edafo, TI, UCPI, Amaz\u00f4nia Legal e Munic\u00edpios\n",
    "\n",
    "Projeto: Sistema de Apoio \u00e0 Caracteriza\u00e7\u00e3o de Im\u00f3veis Rurais  \n",
    "Embrapa/2023"
   ]
  },
  {
   "cell_type": "code",
   "execution_count": 2,
   "metadata": {},
   "outputs": [],
   "source": [
    "# M\u00f3dulos necess\u00e1rios\n",
    "import os\n",
    "import glob\n",
    "import geopandas as gpd"
   ]
  },
  {
   "cell_type": "code",
   "execution_count": 3,
   "metadata": {},
   "outputs": [],
   "source": [
    "# \ud83d\udea8 Substitu\u00eddo automaticamente\n",
    "import os\n",
    "# Original: # \ud83d\udea8 Substitu\u00eddo automaticamente\n# import os\n# # Original: # Definir diret\u00f3rio principal de Integra\u00e7\u00f5es\n# # dirpath = input('Diret\u00f3rio principal: ')\n# dirpath = os.getenv('INPUT_PATH', '/app/input')\n# \n",
    "dirpath = os.getenv('INPUT_PATH', '/app/input')\n"
   ]
  },
  {
   "cell_type": "code",
   "execution_count": 4,
   "metadata": {},
   "outputs": [],
   "source": [
    "# Definir pasta com os arquivos do CAR - reutilizando vari\u00e1vel CAR_FOLDER\n",
    "car_path = os.path.join(os.getenv('INPUT_PATH', '/app/input'), os.getenv('CAR_FOLDER', 'CAR'))\n"
   ]
  },
  {
   "cell_type": "code",
   "execution_count": null,
   "metadata": {},
   "outputs": [],
   "source": [
    "# Definir caminho da pasta: Usos_ABC_Municipios\n",
    "uso_path = os.path.join(os.getenv('INPUT_PATH', '/app/input'), os.getenv('INTEGRACAO_USO_PATH', 'Usos_ABC_Municipios'))\n"
   ]
  },
  {
   "cell_type": "code",
   "execution_count": null,
   "metadata": {},
   "outputs": [],
   "source": [
    "# Definir caminho da pasta: Decliv_UF_Municipios - reutilizando vari\u00e1vel DECLIV_OUTPUT\n",
    "decl_path = os.path.join(os.getenv('INPUT_PATH', '/app/input'), os.getenv('DECLIV_OUTPUT', 'Decliv_UF_Municipios'))\n"
   ]
  },
  {
   "cell_type": "code",
   "execution_count": null,
   "metadata": {},
   "outputs": [],
   "source": [
    "# Definir caminho da pasta: Aptd_Edafo_Municipios - reutilizando vari\u00e1vel APTIDAO_MUN_OUTPUT\n",
    "edafo_path = os.path.join(os.getenv('INPUT_PATH', '/app/input'), os.getenv('APTIDAO_MUN_OUTPUT', 'Aptd_Edafo_Municipios'))\n"
   ]
  },
  {
   "cell_type": "code",
   "execution_count": null,
   "metadata": {},
   "outputs": [],
   "source": [
    "# Definir caminho da pasta: Terras_Indigenas_Municipios - reutilizando vari\u00e1vel TI_MUNICIPIOS_OUTPUT\n",
    "ti_path = os.path.join(os.getenv('INPUT_PATH', '/app/input'), os.getenv('TI_MUNICIPIOS_OUTPUT', 'Terras_Indigenas_Municipios'))\n"
   ]
  },
  {
   "cell_type": "code",
   "execution_count": null,
   "metadata": {},
   "outputs": [],
   "source": [
    "# Definir caminho da pasta: UCPI_Municipios - reutilizando vari\u00e1vel UCPI_MUNICIPIOS_OUTPUT\n",
    "ucpi_path = os.path.join(os.getenv('INPUT_PATH', '/app/input'), os.getenv('UCPI_MUNICIPIOS_OUTPUT', 'UCPI_Municipios'))\n"
   ]
  },
  {
   "cell_type": "code",
   "execution_count": null,
   "metadata": {},
   "outputs": [],
   "source": [
    "# Definir caminho da pasta: Amz_Legal_Municipios - reutilizando vari\u00e1vel AMZ_MUNICIPIOS_OUTPUT\n",
    "amz_path = os.path.join(os.getenv('INPUT_PATH', '/app/input'), os.getenv('AMZ_MUNICIPIOS_OUTPUT', 'Amz_Legal_Municipios'))\n"
   ]
  },
  {
   "cell_type": "code",
   "execution_count": null,
   "metadata": {},
   "outputs": [],
   "source": [
    "# Definir caminho do shapefile de Munic\u00edpios - reutilizando vari\u00e1veis MUNICIPIOS_PATH e MUNICIPIOS_FILE\n",
    "mun_path = os.path.join(os.getenv('INPUT_PATH', '/app/input'), os.getenv('MUNICIPIOS_PATH', 'Municipios'), os.getenv('MUNICIPIOS_FILE', 'BR_Municipios_2021.shp'))\n"
   ]
  },
  {
   "cell_type": "code",
   "execution_count": 5,
   "metadata": {},
   "outputs": [],
   "source": [
    "# Listar anos de integra\u00e7\u00e3o\n",
    "anos = os.getenv('INTEGRACAO_ANOS', '2008,2021').split(',')\n"
   ]
  },
  {
   "cell_type": "code",
   "execution_count": 7,
   "metadata": {},
   "outputs": [],
   "source": [
    "# Criar pasta para armazenar arquivos tempor\u00e1rios",
    "temp_path = os.path.join(dirpath, os.getenv('INTEGRACAO_TEMP_FOLDER', 'Temporarios'))",
    "os.makedirs(temp_path, exist_ok=True)",
    "# Renomeando AREA_IMOVEL para seus respectivos munic\u00edpios",
    "municipios = []",
    "# Percorre a pasta 'CAR' e suas subpastas",
    "for root, dirs, files in os.walk(car_path):",
    "    for dir in dirs:",
    "        # Verifica se o nome da subpasta \u00e9 um c\u00f3digo de munic\u00edpio",
    "        if dir.startswith('SHAPE_'):",
    "            municipio_codigo = dir.split('_')[1]",
    "            municipios.append(municipio_codigo)",
    "            # Constr\u00f3i o caminho completo para a pasta 'AREA_IMOVEL'",
    "            area_imovel_dir = os.path.join(root, dir, 'AREA_IMOVEL')",
    "            ",
    "            # Verifica se a pasta 'AREA_IMOVEL' existe",
    "            if os.path.exists(area_imovel_dir):",
    "                # Renomeia os arquivos dentro de 'AREA_IMOVEL'",
    "                for filename in os.listdir(area_imovel_dir):",
    "                    if filename.startswith('AREA_IMOVEL'):",
    "                        novo_nome = f'{municipio_codigo}_{filename}'",
    "                        arquivo_antigo = os.path.join(area_imovel_dir, filename)",
    "                        novo_arquivo = os.path.join(area_imovel_dir, novo_nome)",
    "                        os.rename(arquivo_antigo, novo_arquivo)",
    "                        print(f'Renomeado: {arquivo_antigo} -> {novo_arquivo}')"
   ]
  },
  {
   "cell_type": "code",
   "execution_count": null,
   "metadata": {},
   "outputs": [],
   "source": [
    "# Interse\u00e7\u00e3o 1 - Usos ABC + CAR\n",
    "for ano in anos:\n",
    "    # Caminho dos vetores dos Usos ABC\n",
    "    usos = glob.glob(uso_path + fr'**/*/*_{ano}_*.shp')\n",
    "    # Caminho dos vetores de limites dos im\u00f3veis\n",
    "    car = glob.glob(car_path + '**/*/*/*/*.shp')\n",
    "    caminho_usos = []\n",
    "    caminho_car = []\n",
    "    for arquivo in usos:\n",
    "        caminho = os.path.join(uso_path,arquivo)\n",
    "        caminho_usos.append(caminho)\n",
    "    for arquivo in car:\n",
    "        caminho = os.path.join(car_path,arquivo)\n",
    "        caminho_car.append(caminho)\n",
    "    vetores = caminho_usos + caminho_car\n",
    "    for municipio in municipios:\n",
    "        for vetor in vetores:\n",
    "            if municipio in vetor and 'Usos' in vetor:\n",
    "                nome_arq = os.path.basename(vetor).replace('.shp', '_CAR.shp')\n",
    "                uso = gpd.read_file(vetor)\n",
    "            if municipio in vetor and 'AREA_IMOVEL' in vetor:\n",
    "                area = gpd.read_file(vetor)\n",
    "        base_car = gpd.overlay(uso, area, how='intersection', keep_geom_type=True)\n",
    "        base_car.to_file(driver = 'ESRI Shapefile', filename = (rf'{temp_path}\\{nome_arq}'))"
   ]
  },
  {
   "cell_type": "code",
   "execution_count": null,
   "metadata": {},
   "outputs": [],
   "source": [
    "# Interse\u00e7\u00e3o 2 - Interse\u00e7\u00e3o 1 + Declividade\n",
    "for ano in anos:\n",
    "    # Caminho dos vetores de Interse\u00e7\u00e3o 1\n",
    "    int = glob.glob(temp_path + fr'**/*{ano}*CAR.shp')\n",
    "    # Caminho dos vetores de Declividade\n",
    "    base = glob.glob(decl_path + '**/*.shp')\n",
    "    caminho_int = []\n",
    "    caminho_base = []\n",
    "    for arquivo in int:\n",
    "        caminho = os.path.join(temp_path,arquivo)\n",
    "        caminho_int.append(caminho)\n",
    "    for arquivo in base:\n",
    "        caminho = os.path.join(decl_path,arquivo)\n",
    "        caminho_base.append(caminho)\n",
    "    vetores = caminho_int + caminho_base\n",
    "    for municipio in municipios:\n",
    "        for vetor in vetores:\n",
    "            if municipio in vetor and 'Usos' in vetor:\n",
    "                nome_arq = os.path.basename(vetor).replace('CAR.shp', 'Decl_CAR.shp')\n",
    "                uso = gpd.read_file(vetor)\n",
    "            if municipio in vetor and 'Decliv' in vetor:\n",
    "                area = gpd.read_file(vetor)\n",
    "        base_car = gpd.overlay(uso, area, how='intersection', keep_geom_type=True)\n",
    "        base_car.to_file(driver = 'ESRI Shapefile', filename = (rf'{temp_path}\\{nome_arq}'))\n",
    "# Dissolve\n",
    "base = glob.glob(temp_path + '**/*Decl_CAR.shp')\n",
    "for arquivo in base:\n",
    "    arq = gpd.read_file(arquivo)\n",
    "    nome_arq = os.path.basename(arquivo)\n",
    "    diss = arq.dissolve(by=['CD_USO', 'COD_IMOVEL', 'COD_ESTADO', 'NOM_MUNICI', 'NUM_MODULO', 'CD_DECLIV'], as_index=True)\n",
    "    diss.to_file(driver = 'ESRI Shapefile', filename = (rf'{temp_path}\\{nome_arq}'))"
   ]
  },
  {
   "cell_type": "code",
   "execution_count": null,
   "metadata": {},
   "outputs": [],
   "source": [
    "# Interse\u00e7\u00e3o 3 - Interse\u00e7\u00e3o 2 + Edafo\n",
    "for ano in anos:\n",
    "    # Caminho dos vetores de Interse\u00e7\u00e3o 2\n",
    "    int = glob.glob(temp_path + fr'**/*{ano}*Decl_CAR.shp')\n",
    "    # Caminho dos vetores de Edafo\n",
    "    base = glob.glob(edafo_path + '**/*.shp')\n",
    "    caminho_int = []\n",
    "    caminho_base = []\n",
    "    for arquivo in int:\n",
    "        caminho = os.path.join(temp_path,arquivo)\n",
    "        caminho_int.append(caminho)\n",
    "    for arquivo in base:\n",
    "        caminho = os.path.join(edafo_path,arquivo)\n",
    "        caminho_base.append(caminho)\n",
    "    vetores = caminho_int + caminho_base\n",
    "    for municipio in municipios:\n",
    "        for vetor in vetores:\n",
    "            if municipio in vetor and 'Usos' in vetor:\n",
    "                nome_arq = os.path.basename(vetor).replace('CAR.shp', 'Aptd_CAR.shp')\n",
    "                uso = gpd.read_file(vetor)\n",
    "            if municipio in vetor and 'Aptd' in vetor:\n",
    "                area = gpd.read_file(vetor)\n",
    "        base_car = gpd.overlay(uso, area, how='intersection', keep_geom_type=True)\n",
    "        base_car.to_file(driver = 'ESRI Shapefile', filename = (rf'{temp_path}\\{nome_arq}'))\n",
    "# Dissolve\n",
    "base = glob.glob(temp_path + '**/*Aptd_CAR.shp')\n",
    "for arquivo in base:\n",
    "    arq = gpd.read_file(arquivo)\n",
    "    nome_arq = os.path.basename(arquivo)\n",
    "    diss = arq.dissolve(by=['CD_USO', 'COD_IMOVEL', 'COD_ESTADO', 'NOM_MUNICI', 'NUM_MODULO', 'CD_DECLIV', 'APTD_EDAFO', 'CD_EDAFO', 'LEG_SOLO'], as_index=True)\n",
    "    diss.to_file(driver = 'ESRI Shapefile', filename = (rf'{temp_path}\\{nome_arq}'))"
   ]
  },
  {
   "cell_type": "code",
   "execution_count": null,
   "metadata": {},
   "outputs": [],
   "source": [
    "# Interse\u00e7\u00e3o 4 - Interse\u00e7\u00e3o 3 + TI\n",
    "for ano in anos:\n",
    "    # Caminho dos vetores de Interse\u00e7\u00e3o 3\n",
    "    int = glob.glob(temp_path + fr'**/*{ano}*Aptd_CAR.shp')\n",
    "    # Caminho dos vetores de TI\n",
    "    base = glob.glob(ti_path + '**/*.shp')\n",
    "    caminho_int = []\n",
    "    caminho_base = []\n",
    "    for arquivo in int:\n",
    "        caminho = os.path.join(temp_path,arquivo)\n",
    "        caminho_int.append(caminho)\n",
    "    for arquivo in base:\n",
    "        caminho = os.path.join(ti_path,arquivo)\n",
    "        caminho_base.append(caminho)\n",
    "    vetores = caminho_int + caminho_base\n",
    "    for municipio in municipios:\n",
    "        for vetor in vetores:\n",
    "            if municipio in vetor and 'Usos' in vetor:\n",
    "                nome_arq = os.path.basename(vetor).replace('CAR.shp', 'TI_CAR.shp')\n",
    "                uso = gpd.read_file(vetor)\n",
    "            if municipio in vetor and 'TI' in vetor:\n",
    "                area = gpd.read_file(vetor)\n",
    "        base_car = gpd.overlay(uso, area, how='intersection', keep_geom_type=True)\n",
    "        base_car.to_file(driver = 'ESRI Shapefile', filename = (rf'{temp_path}\\{nome_arq}'))\n",
    "# Dissolve\n",
    "base = glob.glob(temp_path + '**/*TI_CAR.shp')\n",
    "for arquivo in base:\n",
    "    arq = gpd.read_file(arquivo)\n",
    "    nome_arq = os.path.basename(arquivo)\n",
    "    diss = arq.dissolve(by=['CD_USO', 'COD_IMOVEL', 'COD_ESTADO', 'NOM_MUNICI', 'NUM_MODULO', 'CD_DECLIV', 'APTD_EDAFO', 'CD_EDAFO', 'LEG_SOLO', 'CD_TERRIND'], as_index=True)\n",
    "    diss.to_file(driver = 'ESRI Shapefile', filename = (rf'{temp_path}\\{nome_arq}'))"
   ]
  },
  {
   "cell_type": "code",
   "execution_count": null,
   "metadata": {},
   "outputs": [],
   "source": [
    "# Interse\u00e7\u00e3o 5 - Interse\u00e7\u00e3o 4 + UCPI\n",
    "for ano in anos:\n",
    "    # Caminho dos vetores de Interse\u00e7\u00e3o 4\n",
    "    int = glob.glob(temp_path + fr'**/*{ano}*TI_CAR.shp')\n",
    "    # Caminho dos vetores de UCPI\n",
    "    base = glob.glob(ucpi_path + '**/*.shp')\n",
    "    caminho_int = []\n",
    "    caminho_base = []\n",
    "    for arquivo in int:\n",
    "        caminho = os.path.join(temp_path,arquivo)\n",
    "        caminho_int.append(caminho)\n",
    "    for arquivo in base:\n",
    "        caminho = os.path.join(ti_path,arquivo)\n",
    "        caminho_base.append(caminho)\n",
    "    vetores = caminho_int + caminho_base\n",
    "    for municipio in municipios:\n",
    "        for vetor in vetores:\n",
    "            if municipio in vetor and 'Usos' in vetor:\n",
    "                nome_arq = os.path.basename(vetor).replace('CAR.shp', 'UCPI_CAR.shp')\n",
    "                uso = gpd.read_file(vetor)\n",
    "            if municipio in vetor and 'UCPI' in vetor:\n",
    "                area = gpd.read_file(vetor)\n",
    "        base_car = gpd.overlay(uso, area, how='intersection', keep_geom_type=True)\n",
    "        base_car.to_file(driver = 'ESRI Shapefile', filename = (rf'{temp_path}\\{nome_arq}'))\n",
    "# Dissolve\n",
    "base = glob.glob(temp_path + '**/*UCPI_CAR.shp')\n",
    "for arquivo in base:\n",
    "    arq = gpd.read_file(arquivo)\n",
    "    nome_arq = os.path.basename(arquivo)\n",
    "    diss = arq.dissolve(by=['CD_USO', 'COD_IMOVEL', 'COD_ESTADO', 'NOM_MUNICI', 'NUM_MODULO', 'CD_DECLIV', 'APTD_EDAFO', 'CD_EDAFO', 'LEG_SOLO', 'CD_TERRIND', 'CD_UCPI'], as_index=True)\n",
    "    diss.to_file(driver = 'ESRI Shapefile', filename = (rf'{temp_path}\\{nome_arq}'))"
   ]
  },
  {
   "cell_type": "code",
   "execution_count": null,
   "metadata": {},
   "outputs": [],
   "source": [
    "# Interse\u00e7\u00e3o 6 - Interse\u00e7\u00e3o 5 + Amaz\u00f4nia Legal\n",
    "for ano in anos:\n",
    "    # Caminho dos vetores de Interse\u00e7\u00e3o 5\n",
    "    int = glob.glob(temp_path + fr'**/*{ano}*UCPI_CAR.shp')\n",
    "    # Caminho dos vetores de Amaz\u00f4nia Legal\n",
    "    base = glob.glob(amz_path + '**/*.shp')\n",
    "    caminho_int = []\n",
    "    caminho_base = []\n",
    "    for arquivo in int:\n",
    "        caminho = os.path.join(temp_path,arquivo)\n",
    "        caminho_int.append(caminho)\n",
    "    for arquivo in base:\n",
    "        caminho = os.path.join(ti_path,arquivo)\n",
    "        caminho_base.append(caminho)\n",
    "    vetores = caminho_int + caminho_base\n",
    "    for municipio in municipios:\n",
    "        for vetor in vetores:\n",
    "            if municipio in vetor and 'Usos' in vetor:\n",
    "                nome_arq = os.path.basename(vetor).replace('CAR.shp', 'AMZ_CAR.shp')\n",
    "                uso = gpd.read_file(vetor)\n",
    "            if municipio in vetor and 'Amz' in vetor:\n",
    "                area = gpd.read_file(vetor)\n",
    "        base_car = gpd.overlay(uso, area, how='intersection', keep_geom_type=True)\n",
    "        base_car.to_file(driver = 'ESRI Shapefile', filename = (rf'{temp_path}\\{nome_arq}'))\n",
    "# Dissolve\n",
    "base = glob.glob(temp_path + '**/*AMZ_CAR.shp')\n",
    "for arquivo in base:\n",
    "    arq = gpd.read_file(arquivo)\n",
    "    nome_arq = os.path.basename(arquivo)\n",
    "    diss = arq.dissolve(by=['CD_USO', 'COD_IMOVEL', 'COD_ESTADO', 'NOM_MUNICI', 'NUM_MODULO', 'CD_DECLIV', 'APTD_EDAFO', 'CD_EDAFO', 'LEG_SOLO', 'CD_TERRIND', 'CD_UCPI', 'CD_AMZLG'], as_index=True)\n",
    "    diss.to_file(driver = 'ESRI Shapefile', filename = (rf'{temp_path}\\{nome_arq}'))"
   ]
  },
  {
   "cell_type": "code",
   "execution_count": null,
   "metadata": {},
   "outputs": [],
   "source": [
    "# Interse\u00e7\u00e3o 7 - Interse\u00e7\u00e3o 6 + Munic\u00edpios\n",
    "for ano in anos:\n",
    "    # Caminho dos vetores de Interse\u00e7\u00e3o 5\n",
    "    int = glob.glob(temp_path + fr'**/*{ano}*AMZ_CAR.shp')\n",
    "    municipios = gpd.read_file(mun_path)\n",
    "    for arquivo in int:\n",
    "        nome_arq = os.path.basename(arquivo)\n",
    "        uso = gpd.read_file(arquivo)\n",
    "        base_car = gpd.overlay(uso, municipios, how='intersection', keep_geom_type=True)\n",
    "        base_car.to_file(driver = 'ESRI Shapefile', filename = (rf'{temp_path}\\{nome_arq}'))\n",
    "# Dissolve\n",
    "base = glob.glob(temp_path + '**/*AMZ_CAR.shp')\n",
    "for arquivo in base:\n",
    "    arq = gpd.read_file(arquivo)\n",
    "    nome_arq = os.path.basename(arquivo)\n",
    "    diss = arq.dissolve(by=['CD_USO', 'COD_IMOVEL', 'COD_ESTADO', 'NOM_MUNICI', 'NUM_MODULO', 'CD_DECLIV', 'APTD_EDAFO', 'CD_EDAFO', 'LEG_SOLO', 'CD_TERRIND', 'CD_UCPI', 'CD_AMZLG', 'CD_MUN'], as_index=True)\n",
    "    diss.to_file(driver = 'ESRI Shapefile', filename = (rf'{temp_path}\\{nome_arq}'))"
   ]
  },
  {
   "cell_type": "code",
   "execution_count": 9,
   "metadata": {},
   "outputs": [],
   "source": [
    "# Criar pasta para armazenar arquivos finais de Potencial Agropecu\u00e1rio",
    "pot_path = os.path.join(dirpath, os.getenv('INTEGRACAO_OUTPUT', 'Potencial_Agropecuario'))",
    "os.makedirs(temp_path, exist_ok=True)",
    "# Adequando o arquivo para o Banco de Dados",
    "base = glob.glob(temp_path + '**/*AMZ_CAR.shp')",
    "for arquivo in base:",
    "    arq = gpd.read_file(arquivo)",
    "    arq = arq.drop(['NUM_AREA', 'TIPO_IMOVE', 'SITUACAO', 'CONDICAO_I', 'terrai_cod', 'AMZLG_HA_C', 'NM_MUN', 'SIGLA_UF', 'AREA_KM2'], axis = 1)",
    "    converter_colunas = ['CD_USO', 'CD_DECLIV', 'CD_UCPI']",
    "    arq[converter_colunas] = arq[converter_colunas].astype('object')",
    "    ordem = ['CD_USO', 'COD_IMOVEL', 'COD_ESTADO', 'NOM_MUNICI', 'NUM_MODULO', 'CD_MUN', 'CD_DECLIV', 'APTD_EDAFO', 'CD_EDAFO', 'LEG_SOLO', 'CD_AMZLG', 'CD_UCPI', 'CD_TERRIND', 'geometry']",
    "    arq = arq.reindex(columns=ordem)",
    "    arq.columns = arq.columns.str.lower()",
    "    nome_arq = os.path.basename(arquivo).replace('Usos_ABC', 'Potencial_Agropecuario').replace('_Decl_Aptd_TI_UCPI_AMZ_CAR.shp', '.shp')",
    "    # Adequando o encoding para utf-8",
    "    # Definir coluna a ser ajustada",
    "    coluna = 'nom_munici'",
    "    # Extraindo valores \u00fanicos da coluna",
    "    valoresUnicos = arq[coluna].unique()",
    "    for valor in valoresUnicos:",
    "        valor_encode = valor.encode('iso-8859-1')",
    "        valor_decode = str(valor_encode.decode('utf-8'))",
    "        arq.loc[arq[coluna]==f'{valor}',coluna] = f'{valor_decode}'",
    "        arq.to_file(driver = 'ESRI Shapefile', filename = (rf'{pot_path}\\{nome_arq}'))"
   ]
  }
 ],
 "metadata": {
  "kernelspec": {
   "display_name": "geo",
   "language": "python",
   "name": "python3"
  },
  "language_info": {
   "codemirror_mode": {
    "name": "ipython",
    "version": 3
   },
   "file_extension": ".py",
   "mimetype": "text/x-python",
   "name": "python",
   "nbconvert_exporter": "python",
   "pygments_lexer": "ipython3",
   "version": "3.11.5"
  },
  "orig_nbformat": 4
 },
 "nbformat": 4,
 "nbformat_minor": 2
}